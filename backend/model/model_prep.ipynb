{
 "cells": [
  {
   "cell_type": "code",
   "execution_count": 41,
   "id": "383ad5c9",
   "metadata": {},
   "outputs": [],
   "source": [
    "import json\n",
    "import pandas as pd\n",
    "import numpy as np\n",
    "import matplotlib.pyplot as plt\n",
    "import plotly.graph_objects as go\n",
    "import statistics\n",
    "import random\n",
    "import seaborn as sb\n",
    "\n",
    "from datetime import datetime, timedelta\n",
    "from sklearn.model_selection import train_test_split, GridSearchCV, RepeatedStratifiedKFold\n",
    "from sklearn.metrics import confusion_matrix, classification_report, roc_auc_score, f1_score\n",
    "from sklearn.preprocessing import LabelEncoder, StandardScaler\n",
    "from imblearn.pipeline import Pipeline\n",
    "from sklearn.feature_selection import SelectFromModel\n",
    "\n",
    "from sklearn.linear_model import LogisticRegression\n",
    "from sklearn.svm import SVC\n",
    "from sklearn.tree import DecisionTreeClassifier\n",
    "from sklearn.neural_network import MLPClassifier\n",
    "from sklearn.ensemble import RandomForestClassifier\n",
    "from sklearn.neighbors import KNeighborsClassifier\n",
    "from lightgbm import LGBMClassifier\n",
    "from xgboost import XGBClassifier"
   ]
  },
  {
   "cell_type": "markdown",
   "id": "4638b7f6",
   "metadata": {},
   "source": [
    "# Data Preparation"
   ]
  },
  {
   "cell_type": "code",
   "execution_count": 42,
   "id": "53e1a0e0",
   "metadata": {},
   "outputs": [],
   "source": [
    "def create_subset(size):\n",
    "    with open('../resources/test_data.json', 'r') as file:\n",
    "        data = json.load(file)\n",
    "        \n",
    "    subset_dictionary = {key: data[key] for key in list(data.keys())[:size]}\n",
    "    \n",
    "    with open('../resources/test_data_subset_' + str(size) + '.json', 'w') as file:\n",
    "        json.dump(subset_dictionary, file, indent=2)\n",
    "        \n",
    "    return"
   ]
  },
  {
   "cell_type": "code",
   "execution_count": 43,
   "id": "4781e6cd",
   "metadata": {},
   "outputs": [],
   "source": [
    "create_subset(300)"
   ]
  },
  {
   "cell_type": "code",
   "execution_count": 44,
   "id": "96290395",
   "metadata": {},
   "outputs": [],
   "source": [
    "data_file_path = '../resources/test_data_subset_300.json'\n",
    "dataframe_file_path = '../resources/data_subset_300.csv'"
   ]
  },
  {
   "cell_type": "code",
   "execution_count": 45,
   "id": "77f37c81",
   "metadata": {},
   "outputs": [],
   "source": [
    "def check_data():\n",
    "    df = pd.read_csv(dataframe_file_path)\n",
    "    \n",
    "    print(\"Rows: \", len(df))\n",
    "    for col in df.columns:\n",
    "        print(col, \": \", (df[col].isnull().sum()/len(df)) * 100, \"%\")"
   ]
  },
  {
   "cell_type": "code",
   "execution_count": 46,
   "id": "12d1fcd1",
   "metadata": {},
   "outputs": [
    {
     "name": "stderr",
     "output_type": "stream",
     "text": [
      "C:\\Users\\andre\\AppData\\Local\\Temp\\ipykernel_24356\\2265969160.py:15: PerformanceWarning: DataFrame is highly fragmented.  This is usually the result of calling `frame.insert` many times, which has poor performance.  Consider joining all columns at once using pd.concat(axis=1) instead. To get a de-fragmented frame, use `newframe = frame.copy()`\n",
      "  df[metric + '_sec_last'] = None\n",
      "C:\\Users\\andre\\AppData\\Local\\Temp\\ipykernel_24356\\2265969160.py:16: PerformanceWarning: DataFrame is highly fragmented.  This is usually the result of calling `frame.insert` many times, which has poor performance.  Consider joining all columns at once using pd.concat(axis=1) instead. To get a de-fragmented frame, use `newframe = frame.copy()`\n",
      "  df[metric + '_third_last'] = None\n",
      "C:\\Users\\andre\\AppData\\Local\\Temp\\ipykernel_24356\\2265969160.py:14: PerformanceWarning: DataFrame is highly fragmented.  This is usually the result of calling `frame.insert` many times, which has poor performance.  Consider joining all columns at once using pd.concat(axis=1) instead. To get a de-fragmented frame, use `newframe = frame.copy()`\n",
      "  df[metric + '_last'] = None\n",
      "C:\\Users\\andre\\AppData\\Local\\Temp\\ipykernel_24356\\2265969160.py:15: PerformanceWarning: DataFrame is highly fragmented.  This is usually the result of calling `frame.insert` many times, which has poor performance.  Consider joining all columns at once using pd.concat(axis=1) instead. To get a de-fragmented frame, use `newframe = frame.copy()`\n",
      "  df[metric + '_sec_last'] = None\n",
      "C:\\Users\\andre\\AppData\\Local\\Temp\\ipykernel_24356\\2265969160.py:16: PerformanceWarning: DataFrame is highly fragmented.  This is usually the result of calling `frame.insert` many times, which has poor performance.  Consider joining all columns at once using pd.concat(axis=1) instead. To get a de-fragmented frame, use `newframe = frame.copy()`\n",
      "  df[metric + '_third_last'] = None\n",
      "C:\\Users\\andre\\AppData\\Local\\Temp\\ipykernel_24356\\2265969160.py:14: PerformanceWarning: DataFrame is highly fragmented.  This is usually the result of calling `frame.insert` many times, which has poor performance.  Consider joining all columns at once using pd.concat(axis=1) instead. To get a de-fragmented frame, use `newframe = frame.copy()`\n",
      "  df[metric + '_last'] = None\n",
      "C:\\Users\\andre\\AppData\\Local\\Temp\\ipykernel_24356\\2265969160.py:15: PerformanceWarning: DataFrame is highly fragmented.  This is usually the result of calling `frame.insert` many times, which has poor performance.  Consider joining all columns at once using pd.concat(axis=1) instead. To get a de-fragmented frame, use `newframe = frame.copy()`\n",
      "  df[metric + '_sec_last'] = None\n",
      "C:\\Users\\andre\\AppData\\Local\\Temp\\ipykernel_24356\\2265969160.py:16: PerformanceWarning: DataFrame is highly fragmented.  This is usually the result of calling `frame.insert` many times, which has poor performance.  Consider joining all columns at once using pd.concat(axis=1) instead. To get a de-fragmented frame, use `newframe = frame.copy()`\n",
      "  df[metric + '_third_last'] = None\n",
      "C:\\Users\\andre\\AppData\\Local\\Temp\\ipykernel_24356\\2265969160.py:14: PerformanceWarning: DataFrame is highly fragmented.  This is usually the result of calling `frame.insert` many times, which has poor performance.  Consider joining all columns at once using pd.concat(axis=1) instead. To get a de-fragmented frame, use `newframe = frame.copy()`\n",
      "  df[metric + '_last'] = None\n",
      "C:\\Users\\andre\\AppData\\Local\\Temp\\ipykernel_24356\\2265969160.py:15: PerformanceWarning: DataFrame is highly fragmented.  This is usually the result of calling `frame.insert` many times, which has poor performance.  Consider joining all columns at once using pd.concat(axis=1) instead. To get a de-fragmented frame, use `newframe = frame.copy()`\n",
      "  df[metric + '_sec_last'] = None\n",
      "C:\\Users\\andre\\AppData\\Local\\Temp\\ipykernel_24356\\2265969160.py:16: PerformanceWarning: DataFrame is highly fragmented.  This is usually the result of calling `frame.insert` many times, which has poor performance.  Consider joining all columns at once using pd.concat(axis=1) instead. To get a de-fragmented frame, use `newframe = frame.copy()`\n",
      "  df[metric + '_third_last'] = None\n",
      "C:\\Users\\andre\\AppData\\Local\\Temp\\ipykernel_24356\\2265969160.py:14: PerformanceWarning: DataFrame is highly fragmented.  This is usually the result of calling `frame.insert` many times, which has poor performance.  Consider joining all columns at once using pd.concat(axis=1) instead. To get a de-fragmented frame, use `newframe = frame.copy()`\n",
      "  df[metric + '_last'] = None\n",
      "C:\\Users\\andre\\AppData\\Local\\Temp\\ipykernel_24356\\2265969160.py:15: PerformanceWarning: DataFrame is highly fragmented.  This is usually the result of calling `frame.insert` many times, which has poor performance.  Consider joining all columns at once using pd.concat(axis=1) instead. To get a de-fragmented frame, use `newframe = frame.copy()`\n",
      "  df[metric + '_sec_last'] = None\n",
      "C:\\Users\\andre\\AppData\\Local\\Temp\\ipykernel_24356\\2265969160.py:16: PerformanceWarning: DataFrame is highly fragmented.  This is usually the result of calling `frame.insert` many times, which has poor performance.  Consider joining all columns at once using pd.concat(axis=1) instead. To get a de-fragmented frame, use `newframe = frame.copy()`\n",
      "  df[metric + '_third_last'] = None\n",
      "C:\\Users\\andre\\AppData\\Local\\Temp\\ipykernel_24356\\2265969160.py:14: PerformanceWarning: DataFrame is highly fragmented.  This is usually the result of calling `frame.insert` many times, which has poor performance.  Consider joining all columns at once using pd.concat(axis=1) instead. To get a de-fragmented frame, use `newframe = frame.copy()`\n",
      "  df[metric + '_last'] = None\n",
      "C:\\Users\\andre\\AppData\\Local\\Temp\\ipykernel_24356\\2265969160.py:15: PerformanceWarning: DataFrame is highly fragmented.  This is usually the result of calling `frame.insert` many times, which has poor performance.  Consider joining all columns at once using pd.concat(axis=1) instead. To get a de-fragmented frame, use `newframe = frame.copy()`\n",
      "  df[metric + '_sec_last'] = None\n",
      "C:\\Users\\andre\\AppData\\Local\\Temp\\ipykernel_24356\\2265969160.py:16: PerformanceWarning: DataFrame is highly fragmented.  This is usually the result of calling `frame.insert` many times, which has poor performance.  Consider joining all columns at once using pd.concat(axis=1) instead. To get a de-fragmented frame, use `newframe = frame.copy()`\n",
      "  df[metric + '_third_last'] = None\n",
      "C:\\Users\\andre\\AppData\\Local\\Temp\\ipykernel_24356\\2265969160.py:14: PerformanceWarning: DataFrame is highly fragmented.  This is usually the result of calling `frame.insert` many times, which has poor performance.  Consider joining all columns at once using pd.concat(axis=1) instead. To get a de-fragmented frame, use `newframe = frame.copy()`\n",
      "  df[metric + '_last'] = None\n",
      "C:\\Users\\andre\\AppData\\Local\\Temp\\ipykernel_24356\\2265969160.py:15: PerformanceWarning: DataFrame is highly fragmented.  This is usually the result of calling `frame.insert` many times, which has poor performance.  Consider joining all columns at once using pd.concat(axis=1) instead. To get a de-fragmented frame, use `newframe = frame.copy()`\n",
      "  df[metric + '_sec_last'] = None\n",
      "C:\\Users\\andre\\AppData\\Local\\Temp\\ipykernel_24356\\2265969160.py:16: PerformanceWarning: DataFrame is highly fragmented.  This is usually the result of calling `frame.insert` many times, which has poor performance.  Consider joining all columns at once using pd.concat(axis=1) instead. To get a de-fragmented frame, use `newframe = frame.copy()`\n",
      "  df[metric + '_third_last'] = None\n",
      "C:\\Users\\andre\\AppData\\Local\\Temp\\ipykernel_24356\\2265969160.py:14: PerformanceWarning: DataFrame is highly fragmented.  This is usually the result of calling `frame.insert` many times, which has poor performance.  Consider joining all columns at once using pd.concat(axis=1) instead. To get a de-fragmented frame, use `newframe = frame.copy()`\n",
      "  df[metric + '_last'] = None\n",
      "C:\\Users\\andre\\AppData\\Local\\Temp\\ipykernel_24356\\2265969160.py:15: PerformanceWarning: DataFrame is highly fragmented.  This is usually the result of calling `frame.insert` many times, which has poor performance.  Consider joining all columns at once using pd.concat(axis=1) instead. To get a de-fragmented frame, use `newframe = frame.copy()`\n",
      "  df[metric + '_sec_last'] = None\n",
      "C:\\Users\\andre\\AppData\\Local\\Temp\\ipykernel_24356\\2265969160.py:16: PerformanceWarning: DataFrame is highly fragmented.  This is usually the result of calling `frame.insert` many times, which has poor performance.  Consider joining all columns at once using pd.concat(axis=1) instead. To get a de-fragmented frame, use `newframe = frame.copy()`\n",
      "  df[metric + '_third_last'] = None\n",
      "C:\\Users\\andre\\AppData\\Local\\Temp\\ipykernel_24356\\2265969160.py:14: PerformanceWarning: DataFrame is highly fragmented.  This is usually the result of calling `frame.insert` many times, which has poor performance.  Consider joining all columns at once using pd.concat(axis=1) instead. To get a de-fragmented frame, use `newframe = frame.copy()`\n",
      "  df[metric + '_last'] = None\n",
      "C:\\Users\\andre\\AppData\\Local\\Temp\\ipykernel_24356\\2265969160.py:15: PerformanceWarning: DataFrame is highly fragmented.  This is usually the result of calling `frame.insert` many times, which has poor performance.  Consider joining all columns at once using pd.concat(axis=1) instead. To get a de-fragmented frame, use `newframe = frame.copy()`\n",
      "  df[metric + '_sec_last'] = None\n",
      "C:\\Users\\andre\\AppData\\Local\\Temp\\ipykernel_24356\\2265969160.py:16: PerformanceWarning: DataFrame is highly fragmented.  This is usually the result of calling `frame.insert` many times, which has poor performance.  Consider joining all columns at once using pd.concat(axis=1) instead. To get a de-fragmented frame, use `newframe = frame.copy()`\n",
      "  df[metric + '_third_last'] = None\n",
      "C:\\Users\\andre\\AppData\\Local\\Temp\\ipykernel_24356\\2265969160.py:14: PerformanceWarning: DataFrame is highly fragmented.  This is usually the result of calling `frame.insert` many times, which has poor performance.  Consider joining all columns at once using pd.concat(axis=1) instead. To get a de-fragmented frame, use `newframe = frame.copy()`\n",
      "  df[metric + '_last'] = None\n",
      "C:\\Users\\andre\\AppData\\Local\\Temp\\ipykernel_24356\\2265969160.py:15: PerformanceWarning: DataFrame is highly fragmented.  This is usually the result of calling `frame.insert` many times, which has poor performance.  Consider joining all columns at once using pd.concat(axis=1) instead. To get a de-fragmented frame, use `newframe = frame.copy()`\n",
      "  df[metric + '_sec_last'] = None\n",
      "C:\\Users\\andre\\AppData\\Local\\Temp\\ipykernel_24356\\2265969160.py:16: PerformanceWarning: DataFrame is highly fragmented.  This is usually the result of calling `frame.insert` many times, which has poor performance.  Consider joining all columns at once using pd.concat(axis=1) instead. To get a de-fragmented frame, use `newframe = frame.copy()`\n",
      "  df[metric + '_third_last'] = None\n",
      "C:\\Users\\andre\\AppData\\Local\\Temp\\ipykernel_24356\\2265969160.py:14: PerformanceWarning: DataFrame is highly fragmented.  This is usually the result of calling `frame.insert` many times, which has poor performance.  Consider joining all columns at once using pd.concat(axis=1) instead. To get a de-fragmented frame, use `newframe = frame.copy()`\n",
      "  df[metric + '_last'] = None\n",
      "C:\\Users\\andre\\AppData\\Local\\Temp\\ipykernel_24356\\2265969160.py:15: PerformanceWarning: DataFrame is highly fragmented.  This is usually the result of calling `frame.insert` many times, which has poor performance.  Consider joining all columns at once using pd.concat(axis=1) instead. To get a de-fragmented frame, use `newframe = frame.copy()`\n",
      "  df[metric + '_sec_last'] = None\n",
      "C:\\Users\\andre\\AppData\\Local\\Temp\\ipykernel_24356\\2265969160.py:16: PerformanceWarning: DataFrame is highly fragmented.  This is usually the result of calling `frame.insert` many times, which has poor performance.  Consider joining all columns at once using pd.concat(axis=1) instead. To get a de-fragmented frame, use `newframe = frame.copy()`\n",
      "  df[metric + '_third_last'] = None\n",
      "C:\\Users\\andre\\AppData\\Local\\Temp\\ipykernel_24356\\2265969160.py:14: PerformanceWarning: DataFrame is highly fragmented.  This is usually the result of calling `frame.insert` many times, which has poor performance.  Consider joining all columns at once using pd.concat(axis=1) instead. To get a de-fragmented frame, use `newframe = frame.copy()`\n",
      "  df[metric + '_last'] = None\n",
      "C:\\Users\\andre\\AppData\\Local\\Temp\\ipykernel_24356\\2265969160.py:15: PerformanceWarning: DataFrame is highly fragmented.  This is usually the result of calling `frame.insert` many times, which has poor performance.  Consider joining all columns at once using pd.concat(axis=1) instead. To get a de-fragmented frame, use `newframe = frame.copy()`\n",
      "  df[metric + '_sec_last'] = None\n",
      "C:\\Users\\andre\\AppData\\Local\\Temp\\ipykernel_24356\\2265969160.py:16: PerformanceWarning: DataFrame is highly fragmented.  This is usually the result of calling `frame.insert` many times, which has poor performance.  Consider joining all columns at once using pd.concat(axis=1) instead. To get a de-fragmented frame, use `newframe = frame.copy()`\n",
      "  df[metric + '_third_last'] = None\n",
      "C:\\Users\\andre\\AppData\\Local\\Temp\\ipykernel_24356\\2265969160.py:14: PerformanceWarning: DataFrame is highly fragmented.  This is usually the result of calling `frame.insert` many times, which has poor performance.  Consider joining all columns at once using pd.concat(axis=1) instead. To get a de-fragmented frame, use `newframe = frame.copy()`\n",
      "  df[metric + '_last'] = None\n",
      "C:\\Users\\andre\\AppData\\Local\\Temp\\ipykernel_24356\\2265969160.py:15: PerformanceWarning: DataFrame is highly fragmented.  This is usually the result of calling `frame.insert` many times, which has poor performance.  Consider joining all columns at once using pd.concat(axis=1) instead. To get a de-fragmented frame, use `newframe = frame.copy()`\n",
      "  df[metric + '_sec_last'] = None\n",
      "C:\\Users\\andre\\AppData\\Local\\Temp\\ipykernel_24356\\2265969160.py:16: PerformanceWarning: DataFrame is highly fragmented.  This is usually the result of calling `frame.insert` many times, which has poor performance.  Consider joining all columns at once using pd.concat(axis=1) instead. To get a de-fragmented frame, use `newframe = frame.copy()`\n",
      "  df[metric + '_third_last'] = None\n",
      "C:\\Users\\andre\\AppData\\Local\\Temp\\ipykernel_24356\\2265969160.py:14: PerformanceWarning: DataFrame is highly fragmented.  This is usually the result of calling `frame.insert` many times, which has poor performance.  Consider joining all columns at once using pd.concat(axis=1) instead. To get a de-fragmented frame, use `newframe = frame.copy()`\n",
      "  df[metric + '_last'] = None\n",
      "C:\\Users\\andre\\AppData\\Local\\Temp\\ipykernel_24356\\2265969160.py:15: PerformanceWarning: DataFrame is highly fragmented.  This is usually the result of calling `frame.insert` many times, which has poor performance.  Consider joining all columns at once using pd.concat(axis=1) instead. To get a de-fragmented frame, use `newframe = frame.copy()`\n",
      "  df[metric + '_sec_last'] = None\n",
      "C:\\Users\\andre\\AppData\\Local\\Temp\\ipykernel_24356\\2265969160.py:16: PerformanceWarning: DataFrame is highly fragmented.  This is usually the result of calling `frame.insert` many times, which has poor performance.  Consider joining all columns at once using pd.concat(axis=1) instead. To get a de-fragmented frame, use `newframe = frame.copy()`\n",
      "  df[metric + '_third_last'] = None\n",
      "C:\\Users\\andre\\AppData\\Local\\Temp\\ipykernel_24356\\2265969160.py:14: PerformanceWarning: DataFrame is highly fragmented.  This is usually the result of calling `frame.insert` many times, which has poor performance.  Consider joining all columns at once using pd.concat(axis=1) instead. To get a de-fragmented frame, use `newframe = frame.copy()`\n",
      "  df[metric + '_last'] = None\n",
      "C:\\Users\\andre\\AppData\\Local\\Temp\\ipykernel_24356\\2265969160.py:15: PerformanceWarning: DataFrame is highly fragmented.  This is usually the result of calling `frame.insert` many times, which has poor performance.  Consider joining all columns at once using pd.concat(axis=1) instead. To get a de-fragmented frame, use `newframe = frame.copy()`\n",
      "  df[metric + '_sec_last'] = None\n",
      "C:\\Users\\andre\\AppData\\Local\\Temp\\ipykernel_24356\\2265969160.py:16: PerformanceWarning: DataFrame is highly fragmented.  This is usually the result of calling `frame.insert` many times, which has poor performance.  Consider joining all columns at once using pd.concat(axis=1) instead. To get a de-fragmented frame, use `newframe = frame.copy()`\n",
      "  df[metric + '_third_last'] = None\n"
     ]
    }
   ],
   "source": [
    "with open(data_file_path, 'r') as file:\n",
    "    data = json.load(file)\n",
    "\n",
    "symbols = list(data.keys())\n",
    "\n",
    "metrics = list(data[symbols[0]]['key_metrics_by_form']['10-Q'].keys())\n",
    "\n",
    "df = pd.DataFrame(columns=['symbol'])\n",
    "\n",
    "df['stock_change_before'] = None\n",
    "df['buy'] = None\n",
    "\n",
    "for metric in metrics:\n",
    "    df[metric + '_last'] = None\n",
    "    df[metric + '_sec_last'] = None\n",
    "    df[metric + '_third_last'] = None\n",
    "\n",
    "for symbol in symbols:\n",
    "    dates = list(data[symbol]['facts_by_form']['10-Q']['fileds']) + list(data[symbol]['facts_by_form']['10-K']['fileds'])\n",
    "    dates = list(set(dates))\n",
    "    dates.sort()\n",
    "\n",
    "    if len(dates) < 6:\n",
    "        continue\n",
    "\n",
    "    encoded_symbol = LabelEncoder().fit_transform([symbol])[0]\n",
    "\n",
    "    start_date = datetime.strptime(dates[3], '%Y-%m-%d')\n",
    "    end_date = datetime.strptime(dates[-2], '%Y-%m-%d')\n",
    "    random_dates = []\n",
    "\n",
    "    for _ in range(len(dates) // 2):\n",
    "        random_date = start_date + (end_date - start_date) * random.random()\n",
    "        random_dates.append(random_date.strftime('%Y-%m-%d'))\n",
    "\n",
    "    for date in random_dates:\n",
    "        date_dt = datetime.strptime(date, '%Y-%m-%d')\n",
    "        row_values = [encoded_symbol]\n",
    "\n",
    "        stock_dates = list(data[symbol]['stock_price_history'].keys())\n",
    "        stock_change_over = []\n",
    "        stock_change_before = []\n",
    "        for i, stock_date in enumerate(stock_dates):\n",
    "            stock_date_dt = datetime.strptime(stock_date, '%Y-%m-%d')\n",
    "\n",
    "            if (stock_date_dt - date_dt).days < 30 and (stock_date_dt - date_dt).days > 0:\n",
    "                stock_change_over.append(data[symbol]['stock_price_history'][stock_date]['close'] - data[symbol]['stock_price_history'][stock_dates[i-1]]['close'])\n",
    "            elif (stock_date_dt - date_dt).days > -30 and (stock_date_dt - date_dt).days < 0:\n",
    "                stock_change_before.append(data[symbol]['stock_price_history'][stock_date]['close'] - data[symbol]['stock_price_history'][stock_dates[i-1]]['close'])\n",
    "\n",
    "        if len(stock_change_over) == 0 or len(stock_change_before) == 0:\n",
    "            continue\n",
    "        else:\n",
    "            row_values.append(statistics.median(stock_change_before))\n",
    "\n",
    "            median_over = statistics.median(stock_change_over)\n",
    "            if median_over > 0:\n",
    "                row_values.append(1)\n",
    "            else:\n",
    "                row_values.append(0)\n",
    "\n",
    "        dates_before = [_date for _date in dates if _date <= date]\n",
    "\n",
    "        for metric in metrics: \n",
    "            found_no = 0\n",
    "\n",
    "            for _date in dates_before[::-1]:\n",
    "                if found_no == 3:\n",
    "                    break\n",
    "\n",
    "                if _date in data[symbol]['key_metrics_by_form']['10-Q'][metric]:\n",
    "                    if type(data[symbol]['key_metrics_by_form']['10-Q'][metric][_date]) == dict:\n",
    "                        row_values.append(data[symbol]['key_metrics_by_form']['10-Q'][metric][_date]['val'])\n",
    "                        found_no += 1\n",
    "                        continue\n",
    "\n",
    "                if _date in data[symbol]['key_metrics_by_form']['10-K'][metric]:\n",
    "                    if type(data[symbol]['key_metrics_by_form']['10-K'][metric][_date]) == dict:\n",
    "                        row_values.append(data[symbol]['key_metrics_by_form']['10-K'][metric][_date]['val'])\n",
    "                        found_no += 1\n",
    "                        continue\n",
    "\n",
    "            while found_no < 3:\n",
    "                row_values.append(np.nan)\n",
    "                found_no += 1\n",
    "\n",
    "        df.loc[len(df)] = row_values\n",
    "\n",
    "df.dropna(how='all', inplace=True)\n",
    "\n",
    "df.to_csv(dataframe_file_path, index=False)"
   ]
  },
  {
   "cell_type": "code",
   "execution_count": 47,
   "id": "5af68edd",
   "metadata": {},
   "outputs": [
    {
     "name": "stdout",
     "output_type": "stream",
     "text": [
      "Rows: 3007\n",
      "Columns: 144\n",
      "Rows: 0\n",
      "Columns: 144\n"
     ]
    }
   ],
   "source": [
    "test_df = pd.read_csv(dataframe_file_path)\n",
    "\n",
    "print(f'Rows: {len(test_df)}')\n",
    "print(f'Columns: {len(test_df.columns)}')\n",
    "\n",
    "for column in test_df:\n",
    "    if test_df[column].isnull().all():\n",
    "        print(column)\n",
    "        test_df.drop(columns=[column])\n",
    "\n",
    "test_df.dropna(inplace=True)\n",
    "\n",
    "print(f'Rows: {len(test_df)}')\n",
    "print(f'Columns: {len(test_df.columns)}')"
   ]
  },
  {
   "cell_type": "markdown",
   "id": "064dc22d",
   "metadata": {},
   "source": [
    "# Testing the Model"
   ]
  },
  {
   "cell_type": "code",
   "execution_count": 48,
   "id": "078c62b4",
   "metadata": {},
   "outputs": [],
   "source": [
    "def test_model(name, model, X_test, y_test):\n",
    "    print(name + \":\")\n",
    "    print(\"Score: {:.4f}%\".format(model.score(X_test, y_test) * 100))\n",
    "    \n",
    "    y_pred = model.predict(X_test)\n",
    "    print(\"ROC-AUC:\", roc_auc_score(y_test, y_pred))\n",
    "    #print(confusion_matrix(y_test, y_pred))\n",
    "    #print(classification_report(y_test, y_pred))\n",
    "    \n",
    "    return"
   ]
  },
  {
   "cell_type": "code",
   "execution_count": 49,
   "id": "55776409",
   "metadata": {},
   "outputs": [],
   "source": [
    "def test_both_models(lightGBM, XGBoost, X_train, y_train, X_test, y_test):\n",
    "    lightGBM.fit(X_train, y_train)\n",
    "    test_model('lightGBM', lightGBM, X_test, y_test)\n",
    "    \n",
    "    XGBoost.fit(X_train, y_train)\n",
    "    test_model('\\nXGBoost', XGBoost, X_test, y_test)\n",
    "    \n",
    "    return"
   ]
  },
  {
   "cell_type": "code",
   "execution_count": 50,
   "id": "ab612c31",
   "metadata": {},
   "outputs": [],
   "source": [
    "df = pd.read_csv(dataframe_file_path)\n",
    "    \n",
    "X = df.drop('buy', axis=1)\n",
    "y = df['buy']\n",
    "\n",
    "X_train, X_test, y_train, y_test = train_test_split(X, y, test_size=0.2, random_state=42)"
   ]
  },
  {
   "cell_type": "markdown",
   "id": "b10067e6",
   "metadata": {},
   "source": [
    "## Baseline"
   ]
  },
  {
   "cell_type": "markdown",
   "id": "bd3cd80d",
   "metadata": {},
   "source": [
    "## We can use 'model.predict_proba' to get the probability of each"
   ]
  },
  {
   "cell_type": "code",
   "execution_count": 51,
   "id": "b9666e78",
   "metadata": {},
   "outputs": [
    {
     "name": "stdout",
     "output_type": "stream",
     "text": [
      "lightGBM:\n",
      "Score: 62.9568%\n",
      "ROC-AUC: 0.5887870778267255\n",
      "\n",
      "XGBoost:\n",
      "Score: 62.7907%\n",
      "ROC-AUC: 0.5909309838472835\n"
     ]
    }
   ],
   "source": [
    "lightGBM = LGBMClassifier(objective=\"binary\", random_state=0)\n",
    "XGBoost = XGBClassifier(objective='binary:logistic')\n",
    "\n",
    "test_both_models(lightGBM, XGBoost, X_train, y_train, X_test, y_test)"
   ]
  },
  {
   "cell_type": "markdown",
   "id": "f47c0902",
   "metadata": {},
   "source": [
    "## Scaling"
   ]
  },
  {
   "cell_type": "code",
   "execution_count": 52,
   "id": "716ab686",
   "metadata": {},
   "outputs": [
    {
     "name": "stdout",
     "output_type": "stream",
     "text": [
      "lightGBM:\n",
      "Score: 62.6246%\n",
      "ROC-AUC: 0.5887283406754773\n",
      "\n",
      "XGBoost:\n",
      "Score: 63.6213%\n",
      "ROC-AUC: 0.6054214390602056\n"
     ]
    }
   ],
   "source": [
    "df = pd.read_csv(dataframe_file_path)\n",
    "    \n",
    "X = df.drop('buy', axis=1)\n",
    "y = df['buy']\n",
    "\n",
    "scaler = StandardScaler()\n",
    "X = pd.DataFrame(scaler.fit_transform(X), columns=X.columns)\n",
    "\n",
    "X_train, X_test, y_train, y_test = train_test_split(X, y, test_size=0.2, random_state=42)\n",
    "\n",
    "lightGBM = LGBMClassifier(objective=\"binary\", random_state=0)\n",
    "XGBoost = XGBClassifier(objective='binary:logistic')\n",
    "\n",
    "test_both_models(lightGBM, XGBoost, X_train, y_train, X_test, y_test)"
   ]
  },
  {
   "cell_type": "markdown",
   "id": "23aacc81",
   "metadata": {},
   "source": [
    "## Feature Selection"
   ]
  },
  {
   "cell_type": "code",
   "execution_count": 53,
   "id": "617741dc",
   "metadata": {},
   "outputs": [],
   "source": [
    "# m = LGBMClassifier(objective=\"binary\", random_state=0)\n",
    "# m.fit(X_train, y_train)\n",
    "\n",
    "# y_pred = m.predict(X_test)\n",
    "# rocauc = roc_auc_score(y_test, y_pred)\n",
    "# f1 = f1_score(y_test, y_pred)\n",
    "# print(\"ROC-AUC: %f; F1: %f\" % (rocauc, f1))\n",
    "\n",
    "# thresholds_df = pd.DataFrame()\n",
    "\n",
    "# thresholds = np.sort(m.feature_importances_)\n",
    "# for tr in thresholds:\n",
    "#     sel = SelectFromModel(m, threshold=tr, prefit=True)\n",
    "#     sel_X_train = sel.transform(X_train.values)\n",
    "#     #\n",
    "#     clf = LGBMClassifier(objective=\"binary\", random_state=0)\n",
    "#     clf.fit(sel_X_train, y_train)\n",
    "#     #\n",
    "#     sel_X_test = sel.transform(X_test.values)\n",
    "#     y_pred = clf.predict(sel_X_test)\n",
    "#     rocauc = roc_auc_score(y_test, y_pred)\n",
    "#     f1 = f1_score(y_test, y_pred)\n",
    "#     right_df = pd.DataFrame([[tr, rocauc]], columns=['threshold', 'roc-auc'])\n",
    "#     print(\"Threshold=%s; ROC-AUC: %f; F1: %f\" % (tr, rocauc, f1))\n",
    "#     thresholds_df = pd.concat([thresholds_df, right_df], axis=0, join=\"outer\", ignore_index=True)\n",
    "\n",
    "# sb.scatterplot(x=\"threshold\", y=\"roc-auc\", data=thresholds_df)"
   ]
  },
  {
   "cell_type": "code",
   "execution_count": 54,
   "metadata": {},
   "outputs": [
    {
     "name": "stdout",
     "output_type": "stream",
     "text": [
      "ROC-AUC: 0.605421; F1: 0.498856\n",
      "Threshold=0.0; ROC-AUC: 0.605421; F1: 0.498856\n",
      "Threshold=0.0; ROC-AUC: 0.605421; F1: 0.498856\n",
      "Threshold=0.0; ROC-AUC: 0.605421; F1: 0.498856\n",
      "Threshold=0.0; ROC-AUC: 0.605421; F1: 0.498856\n",
      "Threshold=0.0; ROC-AUC: 0.605421; F1: 0.498856\n",
      "Threshold=0.0; ROC-AUC: 0.605421; F1: 0.498856\n",
      "Threshold=0.0; ROC-AUC: 0.605421; F1: 0.498856\n",
      "Threshold=0.0; ROC-AUC: 0.605421; F1: 0.498856\n",
      "Threshold=0.0; ROC-AUC: 0.605421; F1: 0.498856\n",
      "Threshold=0.0; ROC-AUC: 0.605421; F1: 0.498856\n",
      "Threshold=0.0; ROC-AUC: 0.605421; F1: 0.498856\n",
      "Threshold=0.0; ROC-AUC: 0.605421; F1: 0.498856\n",
      "Threshold=0.0; ROC-AUC: 0.605421; F1: 0.498856\n",
      "Threshold=0.0; ROC-AUC: 0.605421; F1: 0.498856\n",
      "Threshold=0.0; ROC-AUC: 0.605421; F1: 0.498856\n",
      "Threshold=0.0; ROC-AUC: 0.605421; F1: 0.498856\n",
      "Threshold=0.0; ROC-AUC: 0.605421; F1: 0.498856\n",
      "Threshold=0.0; ROC-AUC: 0.605421; F1: 0.498856\n",
      "Threshold=0.0; ROC-AUC: 0.605421; F1: 0.498856\n",
      "Threshold=0.0; ROC-AUC: 0.605421; F1: 0.498856\n",
      "Threshold=0.0; ROC-AUC: 0.605421; F1: 0.498856\n",
      "Threshold=0.0013508385; ROC-AUC: 0.605421; F1: 0.498856\n",
      "Threshold=0.0020470931; ROC-AUC: 0.602755; F1: 0.496583\n",
      "Threshold=0.002389893; ROC-AUC: 0.594408; F1: 0.481481\n",
      "Threshold=0.0025313941; ROC-AUC: 0.589539; F1: 0.475751\n",
      "Threshold=0.0026073095; ROC-AUC: 0.602814; F1: 0.491879\n",
      "Threshold=0.0027451187; ROC-AUC: 0.596206; F1: 0.481308\n",
      "Threshold=0.0029329844; ROC-AUC: 0.596206; F1: 0.481308\n",
      "Threshold=0.0037022845; ROC-AUC: 0.602814; F1: 0.491879\n",
      "Threshold=0.0037608086; ROC-AUC: 0.591800; F1: 0.474178\n",
      "Threshold=0.0037815827; ROC-AUC: 0.591278; F1: 0.480549\n",
      "Threshold=0.0039500836; ROC-AUC: 0.590872; F1: 0.476852\n",
      "Threshold=0.004274405; ROC-AUC: 0.589539; F1: 0.475751\n",
      "Threshold=0.004605753; ROC-AUC: 0.597944; F1: 0.486111\n",
      "Threshold=0.0046834047; ROC-AUC: 0.593192; F1: 0.470024\n",
      "Threshold=0.0048696245; ROC-AUC: 0.574062; F1: 0.456221\n",
      "Threshold=0.0048738467; ROC-AUC: 0.589016; F1: 0.481982\n",
      "Threshold=0.0049279565; ROC-AUC: 0.592206; F1: 0.477958\n",
      "Threshold=0.004952388; ROC-AUC: 0.586526; F1: 0.464455\n",
      "Threshold=0.0049624927; ROC-AUC: 0.602349; F1: 0.493088\n",
      "Threshold=0.0049674395; ROC-AUC: 0.564846; F1: 0.437647\n",
      "Threshold=0.005028673; ROC-AUC: 0.592147; F1: 0.482916\n",
      "Threshold=0.00519257; ROC-AUC: 0.592147; F1: 0.482916\n",
      "Threshold=0.0051962044; ROC-AUC: 0.586467; F1: 0.469767\n",
      "Threshold=0.005355626; ROC-AUC: 0.566179; F1: 0.438679\n",
      "Threshold=0.005583432; ROC-AUC: 0.574120; F1: 0.450704\n",
      "Threshold=0.0055842944; ROC-AUC: 0.589539; F1: 0.475751\n",
      "Threshold=0.0055930447; ROC-AUC: 0.584206; F1: 0.471396\n",
      "Threshold=0.005612991; ROC-AUC: 0.583859; F1: 0.462264\n",
      "Threshold=0.005620586; ROC-AUC: 0.592206; F1: 0.477958\n",
      "Threshold=0.0059016533; ROC-AUC: 0.584264; F1: 0.466200\n",
      "Threshold=0.005971041; ROC-AUC: 0.598349; F1: 0.489703\n",
      "Threshold=0.005985735; ROC-AUC: 0.566584; F1: 0.442890\n",
      "Threshold=0.0060753766; ROC-AUC: 0.581539; F1: 0.469248\n",
      "Threshold=0.006078418; ROC-AUC: 0.590931; F1: 0.471698\n",
      "Threshold=0.006099852; ROC-AUC: 0.585598; F1: 0.467290\n",
      "Threshold=0.0061027473; ROC-AUC: 0.588147; F1: 0.479638\n",
      "Threshold=0.006129259; ROC-AUC: 0.585134; F1: 0.468677\n",
      "Threshold=0.006210588; ROC-AUC: 0.566179; F1: 0.438679\n",
      "Threshold=0.0062512355; ROC-AUC: 0.590467; F1: 0.473068\n",
      "Threshold=0.006315084; ROC-AUC: 0.596611; F1: 0.484988\n",
      "Threshold=0.006410949; ROC-AUC: 0.584787; F1: 0.459330\n",
      "Threshold=0.0064328914; ROC-AUC: 0.576728; F1: 0.458333\n",
      "Threshold=0.006512407; ROC-AUC: 0.576728; F1: 0.458333\n",
      "Threshold=0.006537427; ROC-AUC: 0.586931; F1: 0.468384\n",
      "Threshold=0.0065603177; ROC-AUC: 0.597944; F1: 0.486111\n",
      "Threshold=0.0065673436; ROC-AUC: 0.579859; F1: 0.459016\n",
      "Threshold=0.00658656; ROC-AUC: 0.587336; F1: 0.472222\n",
      "Threshold=0.006607127; ROC-AUC: 0.595336; F1: 0.478873\n",
      "Threshold=0.0066573964; ROC-AUC: 0.599742; F1: 0.485981\n",
      "Threshold=0.006735276; ROC-AUC: 0.579512; F1: 0.449275\n",
      "Threshold=0.0067465096; ROC-AUC: 0.585656; F1: 0.461905\n",
      "Threshold=0.006773661; ROC-AUC: 0.589134; F1: 0.471963\n",
      "Threshold=0.006781037; ROC-AUC: 0.584206; F1: 0.471396\n",
      "Threshold=0.0067818207; ROC-AUC: 0.571918; F1: 0.447059\n",
      "Threshold=0.0067840912; ROC-AUC: 0.597944; F1: 0.486111\n",
      "Threshold=0.006803039; ROC-AUC: 0.572787; F1: 0.449649\n",
      "Threshold=0.006809781; ROC-AUC: 0.579800; F1: 0.464368\n",
      "Threshold=0.006903398; ROC-AUC: 0.597944; F1: 0.486111\n",
      "Threshold=0.006910263; ROC-AUC: 0.570120; F1: 0.447552\n",
      "Threshold=0.007058761; ROC-AUC: 0.596206; F1: 0.481308\n",
      "Threshold=0.0071012313; ROC-AUC: 0.583395; F1: 0.463700\n",
      "Threshold=0.0071406625; ROC-AUC: 0.582584; F1: 0.455635\n",
      "Threshold=0.0071776705; ROC-AUC: 0.578526; F1: 0.457944\n",
      "Threshold=0.0071979268; ROC-AUC: 0.602814; F1: 0.491879\n",
      "Threshold=0.0072307093; ROC-AUC: 0.595742; F1: 0.482599\n",
      "Threshold=0.007314881; ROC-AUC: 0.603683; F1: 0.494226\n",
      "Threshold=0.0073195207; ROC-AUC: 0.597480; F1: 0.487356\n",
      "Threshold=0.0073690554; ROC-AUC: 0.574990; F1: 0.453271\n",
      "Threshold=0.0074084345; ROC-AUC: 0.591683; F1: 0.484163\n",
      "Threshold=0.0074501494; ROC-AUC: 0.574062; F1: 0.456221\n",
      "Threshold=0.0074641844; ROC-AUC: 0.604957; F1: 0.500000\n",
      "Threshold=0.0074788337; ROC-AUC: 0.616899; F1: 0.514806\n",
      "Threshold=0.007509636; ROC-AUC: 0.596088; F1: 0.490991\n",
      "Threshold=0.007600384; ROC-AUC: 0.585885; F1: 0.481069\n",
      "Threshold=0.007646913; ROC-AUC: 0.581539; F1: 0.469248\n",
      "Threshold=0.007720028; ROC-AUC: 0.602349; F1: 0.493088\n",
      "Threshold=0.007783614; ROC-AUC: 0.589944; F1: 0.479452\n",
      "Threshold=0.007844118; ROC-AUC: 0.595219; F1: 0.488688\n",
      "Threshold=0.007846976; ROC-AUC: 0.593480; F1: 0.484018\n",
      "Threshold=0.00794529; ROC-AUC: 0.586467; F1: 0.469767\n",
      "Threshold=0.008002608; ROC-AUC: 0.598291; F1: 0.494382\n",
      "Threshold=0.008204773; ROC-AUC: 0.590755; F1: 0.486607\n",
      "Threshold=0.008222009; ROC-AUC: 0.582872; F1: 0.470320\n",
      "Threshold=0.008347879; ROC-AUC: 0.582003; F1: 0.467890\n",
      "Threshold=0.008441144; ROC-AUC: 0.575742; F1: 0.466368\n",
      "Threshold=0.008532653; ROC-AUC: 0.589944; F1: 0.479452\n",
      "Threshold=0.008674235; ROC-AUC: 0.593480; F1: 0.484018\n",
      "Threshold=0.008723649; ROC-AUC: 0.601827; F1: 0.498876\n",
      "Threshold=0.008726241; ROC-AUC: 0.576670; F1: 0.463636\n",
      "Threshold=0.008957443; ROC-AUC: 0.576206; F1: 0.465011\n",
      "Threshold=0.009107728; ROC-AUC: 0.588147; F1: 0.479638\n",
      "Threshold=0.009203692; ROC-AUC: 0.574467; F1: 0.460137\n",
      "Threshold=0.009217723; ROC-AUC: 0.595683; F1: 0.487472\n",
      "Threshold=0.009472094; ROC-AUC: 0.589539; F1: 0.475751\n",
      "Threshold=0.009641171; ROC-AUC: 0.572728; F1: 0.455172\n",
      "Threshold=0.010225905; ROC-AUC: 0.589480; F1: 0.480726\n",
      "Threshold=0.010246458; ROC-AUC: 0.593075; F1: 0.480370\n",
      "Threshold=0.010881926; ROC-AUC: 0.603565; F1: 0.503341\n",
      "Threshold=0.010931733; ROC-AUC: 0.588611; F1: 0.478360\n",
      "Threshold=0.011194722; ROC-AUC: 0.572264; F1: 0.456621\n",
      "Threshold=0.011342219; ROC-AUC: 0.578990; F1: 0.456471\n",
      "Threshold=0.011449916; ROC-AUC: 0.576787; F1: 0.452830\n",
      "Threshold=0.01150817; ROC-AUC: 0.579454; F1: 0.454976\n",
      "Threshold=0.011598463; ROC-AUC: 0.595395; F1: 0.473684\n",
      "Threshold=0.011622128; ROC-AUC: 0.574120; F1: 0.450704\n",
      "Threshold=0.011714803; ROC-AUC: 0.574990; F1: 0.453271\n",
      "Threshold=0.011957458; ROC-AUC: 0.560441; F1: 0.430260\n",
      "Threshold=0.012313626; ROC-AUC: 0.563107; F1: 0.432304\n",
      "Threshold=0.012719032; ROC-AUC: 0.579859; F1: 0.459016\n",
      "Threshold=0.012806716; ROC-AUC: 0.577715; F1: 0.449761\n",
      "Threshold=0.0130672455; ROC-AUC: 0.573310; F1: 0.442308\n",
      "Threshold=0.013753831; ROC-AUC: 0.580441; F1: 0.446078\n",
      "Threshold=0.013855226; ROC-AUC: 0.579454; F1: 0.454976\n",
      "Threshold=0.013900421; ROC-AUC: 0.546937; F1: 0.388889\n",
      "Threshold=0.014829693; ROC-AUC: 0.564734; F1: 0.400000\n",
      "Threshold=0.0160978; ROC-AUC: 0.556505; F1: 0.364146\n",
      "Threshold=0.016377082; ROC-AUC: 0.552910; F1: 0.367123\n",
      "Threshold=0.016996289; ROC-AUC: 0.583924; F1: 0.405634\n",
      "Threshold=0.017727258; ROC-AUC: 0.559348; F1: 0.338369\n",
      "Threshold=0.01919558; ROC-AUC: 0.556276; F1: 0.329268\n",
      "Threshold=0.031234074; ROC-AUC: 0.543289; F1: 0.336182\n",
      "Threshold=0.034661766; ROC-AUC: 0.514026; F1: 0.082305\n"
     ]
    },
    {
     "data": {
      "text/plain": [
       "<Axes: xlabel='threshold', ylabel='roc-auc'>"
      ]
     },
     "execution_count": 54,
     "metadata": {},
     "output_type": "execute_result"
    },
    {
     "data": {
      "image/png": "[encoded data removed]",
      "text/plain": [
       "<Figure size 640x480 with 1 Axes>"
      ]
     },
     "metadata": {},
     "output_type": "display_data"
    }
   ],
   "source": [
    "m = XGBClassifier(objective='binary:logistic')\n",
    "m.fit(X_train, y_train)\n",
    "\n",
    "y_pred = m.predict(X_test)\n",
    "rocauc = roc_auc_score(y_test, y_pred)\n",
    "f1 = f1_score(y_test, y_pred)\n",
    "print(\"ROC-AUC: %f; F1: %f\" % (rocauc, f1))\n",
    "\n",
    "thresholds_df = pd.DataFrame()\n",
    "\n",
    "thresholds = np.sort(m.feature_importances_)\n",
    "for tr in thresholds:\n",
    "    sel = SelectFromModel(m, threshold=tr, prefit=True)\n",
    "    sel_X_train = sel.transform(X_train.values)\n",
    "    #\n",
    "    clf = XGBClassifier(objective='binary:logistic')\n",
    "    clf.fit(sel_X_train, y_train)\n",
    "    #\n",
    "    sel_X_test = sel.transform(X_test.values)\n",
    "    y_pred = clf.predict(sel_X_test)\n",
    "    rocauc = roc_auc_score(y_test, y_pred)\n",
    "    f1 = f1_score(y_test, y_pred)\n",
    "    right_df = pd.DataFrame([[tr, rocauc]], columns=['threshold', 'roc-auc'])\n",
    "    print(\"Threshold=%s; ROC-AUC: %f; F1: %f\" % (tr, rocauc, f1))\n",
    "    thresholds_df = pd.concat([thresholds_df, right_df], axis=0, join=\"outer\", ignore_index=True)\n",
    "\n",
    "sb.scatterplot(x=\"threshold\", y=\"roc-auc\", data=thresholds_df)"
   ]
  },
  {
   "cell_type": "code",
   "execution_count": 55,
   "id": "37d0d6d4",
   "metadata": {},
   "outputs": [
    {
     "name": "stdout",
     "output_type": "stream",
     "text": [
      "Best: \n",
      "Threshold = 0.007478833664208651 \n",
      "ROC-AUC = 0.6168986784140968\n"
     ]
    }
   ],
   "source": [
    "best = thresholds_df.sort_values(\"roc-auc\", ascending=False).iloc[0]\n",
    "print(\"Best: \\nThreshold = {} \\nROC-AUC = {}\".format(best[\"threshold\"], best[\"roc-auc\"]))"
   ]
  },
  {
   "cell_type": "code",
   "execution_count": 56,
   "id": "de66809f",
   "metadata": {},
   "outputs": [
    {
     "name": "stdout",
     "output_type": "stream",
     "text": [
      "Index(['CurrentRatio_sec_last', 'CurrentRatio_third_last',\n",
      "       'DebtToAssets_sec_last', 'DebtToAssets_third_last', 'Expenses_sec_last',\n",
      "       'Revenue_third_last', 'EBIT_last', 'EBIT_sec_last', 'EBIT_third_last',\n",
      "       'FreeCashFlow_last', 'FreeCashFlow_sec_last', 'FreeCashFlow_third_last',\n",
      "       'NetDebtToEBITDA_last', 'NetDebtToEBITDA_third_last',\n",
      "       'IncomeQuality_last', 'IncomeQuality_sec_last',\n",
      "       'SalesGeneralAndAdministrativeToRevenue_last',\n",
      "       'SalesGeneralAndAdministrativeToRevenue_sec_last',\n",
      "       'ReturnOnTangibleAssets_last', 'ReturnOnTangibleAssets_sec_last',\n",
      "       'ReturnOnTangibleAssets_third_last', 'WorkingCapital_sec_last',\n",
      "       'WorkingCapital_third_last', 'RevenuePerShare_third_last',\n",
      "       'InterestDebtPerShare_last', 'InterestDebtPerShare_third_last',\n",
      "       'ReturnOnEquity_last', 'CapexPerShare_last', 'QuickRatio_sec_last',\n",
      "       'CashRatio_sec_last', 'CashRatio_third_last', 'ReturnOnAssets_last',\n",
      "       'ReturnOnAssets_sec_last', 'ReturnOnAssets_third_last',\n",
      "       'ReturnOnCapitalEmployed_last', 'ReturnOnCapitalEmployed_sec_last',\n",
      "       'CompanyEquityMultiplier_last', 'CompanyEquityMultiplier_third_last',\n",
      "       'NetIncomePerEBT_last', 'NetIncomePerEBT_sec_last',\n",
      "       'NetIncomePerEBT_third_last', 'TotalDebtToCapitalization_sec_last',\n",
      "       'TotalDebtToCapitalization_third_last', 'FixedAssetTurnover_last',\n",
      "       'FixedAssetTurnover_sec_last', 'OperatingCashFlowSalesRatio_last',\n",
      "       'OperatingCashFlowSalesRatio_sec_last',\n",
      "       'FreeCashFlowSalesRatio_sec_last', 'CashFlowCoverageRatio_last',\n",
      "       'CashFlowCoverageRatio_sec_last', 'CashFlowCoverageRatio_third_last',\n",
      "       'ShortTermCoverageRatio_last', 'DividendPaidAndCapexCoverageRatio_last',\n",
      "       'DividendPaidAndCapexCoverageRatio_third_last',\n",
      "       'OperatingProfitMargin_last', 'PretaxProfitMargin_third_last',\n",
      "       'NetProfitMargin_last', 'EBTPerEBIT_last', 'DebtRatio_last',\n",
      "       'DebtRatio_sec_last', 'DebtRatio_third_last',\n",
      "       'CashFlowToDebtRatio_third_last', 'AssetTurnover_third_last'],\n",
      "      dtype='object') 63\n"
     ]
    }
   ],
   "source": [
    "sel = SelectFromModel(XGBClassifier(objective='binary:logistic'))\n",
    "sel.fit(X_train, y_train)\n",
    "selected_attr = X_train.columns[(sel.get_support())]\n",
    "print(selected_attr, len(selected_attr))"
   ]
  },
  {
   "cell_type": "code",
   "execution_count": 58,
   "id": "fae38c1c",
   "metadata": {},
   "outputs": [],
   "source": [
    "attr_to_drop = set(df.columns) - set(selected_attr)\n",
    "attr_to_drop.remove('buy')\n",
    "\n",
    "df.drop(attr_to_drop, axis=1, inplace=True)\n",
    "\n",
    "X = df.drop('buy', axis=1)\n",
    "y = df['buy']\n",
    "\n",
    "X_train, X_test, y_train, y_test = train_test_split(X, y, test_size=0.2, random_state=42)"
   ]
  },
  {
   "cell_type": "code",
   "execution_count": 18,
   "id": "3c199af8",
   "metadata": {},
   "outputs": [
    {
     "name": "stdout",
     "output_type": "stream",
     "text": [
      "lightGBM:\n",
      "Score: 62.2924%\n",
      "ROC-AUC: 0.6079363663727272\n",
      "\n",
      "XGBoost:\n",
      "Score: 60.2990%\n",
      "ROC-AUC: 0.5901439225872621\n"
     ]
    }
   ],
   "source": [
    "lightGBM = LGBMClassifier(objective=\"binary\", random_state=0)\n",
    "XGBoost = XGBClassifier(objective='binary:logistic')\n",
    "\n",
    "test_both_models(lightGBM, XGBoost, X_train, y_train, X_test, y_test)"
   ]
  },
  {
   "cell_type": "markdown",
   "id": "56d8f9b2",
   "metadata": {},
   "source": [
    "## Gridsearch"
   ]
  },
  {
   "cell_type": "markdown",
   "id": "d27650d3",
   "metadata": {},
   "source": [
    "### Need to check which models to use and which params"
   ]
  },
  {
   "cell_type": "code",
   "execution_count": 59,
   "id": "ac6697a5",
   "metadata": {},
   "outputs": [
    {
     "data": {
      "text/plain": [
       "\"\\nXGBoost_model = XGBClassifier(objective='binary:logistic', gamma=df.iloc[0]['best_params']['classifier__gamma'], learning_rate=df.iloc[0]['best_params']['classifier__learning_rate'], max_depth=df.iloc[0]['best_params']['classifier__max_depth'], n_estimators=df.iloc[0]['best_params']['classifier__n_estimators'], reg_alpha=df.iloc[0]['best_params']['classifier__reg_alpha'], n_estimators=df.iloc[0]['best_params']['classifier__reg_lambda'])\\nXGBoost_model.fit(X_train, y_train)\\n\\ntest_model('XGBoost with gridsearch:', XGBoost_model, X_test, y_test)\\n\""
      ]
     },
     "execution_count": 59,
     "metadata": {},
     "output_type": "execute_result"
    }
   ],
   "source": [
    "model_params = {\n",
    "    'lightGBM': {\n",
    "        'model': LGBMClassifier(objective=\"binary\", random_state=0),\n",
    "        'params': {\n",
    "            'classifier__num_leaves': [n for n in np.arange(2, 10, 1)],\n",
    "            'classifier__max_depth': [n for n in np.arange(1, 6, 1)],\n",
    "            'classifier__n_estimators': [n for n in np.arange(50, 151, 25)]\n",
    "        }\n",
    "        \n",
    "    },\n",
    "    'XGBoost': {\n",
    "        'model': XGBClassifier(objective='binary:logistic'),\n",
    "        'params': {\n",
    "            'classifier__gamma': [0,0.1,0.2,0.4,0.8,1.6,3.2,6.4],\n",
    "            'classifier__learning_rate': [n for n in np.arange(0, 0.7, 0.1)],\n",
    "            'classifier__max_depth': [n for n in range(4, 10, 1)],\n",
    "            'classifier__n_estimators': [n for n in range(50, 350, 50)],\n",
    "            'classifier__reg_alpha': [0,0.1,0.2,0.4,0.8,1.6,3.2,6.4,12.8,25.6,51.2,102.4,200],\n",
    "            'classifier__reg_lambda': [0.6, 1.0, 1.6,3.2,6.4,12.8,25.6,51.2,102.4,200]\n",
    "        }\n",
    "    }\n",
    "}\n",
    "\"\"\"\n",
    "    \n",
    "kf = RepeatedStratifiedKFold(n_splits=10, n_repeats=5, random_state=0)\n",
    "\n",
    "scores = []\n",
    "for model_name, mp in model_params.items():\n",
    "    if model_name != 'XGBoost':\n",
    "        continue\n",
    "    #pipeline = Pipeline([('smote', SMOTE(random_state=42)), ('classifier', mp['model'])])\n",
    "    pipeline = Pipeline([('classifier', mp['model'])])\n",
    "    grid_search = GridSearchCV(pipeline,\n",
    "                            param_grid=mp['params'],\n",
    "                            return_train_score=False,\n",
    "                            cv=kf,\n",
    "                            n_jobs=-1,\n",
    "                            verbose=1)\n",
    "\n",
    "    grid_search.fit(X_train, y_train)\n",
    "    scores.append({\n",
    "        'model': model_name,\n",
    "        'best_score': grid_search.best_score_,\n",
    "        'best_params': grid_search.best_params_\n",
    "    })\n",
    "\n",
    "df = pd.DataFrame(scores, columns=['model', 'best_score', 'best_params'])\n",
    "\n",
    "\"\"\"\n",
    "\"\"\"\n",
    "#Only works if only lightGBM enabled\n",
    "lightGBM_model = LGBMClassifier(objective=\"binary\", random_state=0, max_depth=df.iloc[0]['best_params']['classifier__max_depth'], n_estimators=df.iloc[0]['best_params']['classifier__n_estimators'], num_leaves=df.iloc[0]['best_params']['classifier__num_leaves'])\n",
    "lightGBM_model.fit(X_train, y_train)\n",
    "\n",
    "test_model('LightGBM with gridsearch:', lightGBM_model, X_test, y_test)\n",
    "\"\"\"\n",
    "\"\"\"\n",
    "XGBoost_model = XGBClassifier(objective='binary:logistic', gamma=df.iloc[0]['best_params']['classifier__gamma'], learning_rate=df.iloc[0]['best_params']['classifier__learning_rate'], max_depth=df.iloc[0]['best_params']['classifier__max_depth'], n_estimators=df.iloc[0]['best_params']['classifier__n_estimators'], reg_alpha=df.iloc[0]['best_params']['classifier__reg_alpha'], n_estimators=df.iloc[0]['best_params']['classifier__reg_lambda'])\n",
    "XGBoost_model.fit(X_train, y_train)\n",
    "\n",
    "test_model('XGBoost with gridsearch:', XGBoost_model, X_test, y_test)\n",
    "\"\"\""
   ]
  },
  {
   "cell_type": "code",
   "execution_count": 33,
   "id": "37aa00d8",
   "metadata": {},
   "outputs": [],
   "source": [
    "from skopt import BayesSearchCV\n",
    "\n",
    "scores = []\n",
    "for model_name, mp in model_params.items():\n",
    "    if model_name != 'XGBoost':\n",
    "        continue\n",
    "    #pipeline = Pipeline([('smote', SMOTE(random_state=42)), ('classifier', mp['model'])])\n",
    "    pipeline = Pipeline([('classifier', mp['model'])])\n",
    "    bayes = BayesSearchCV(pipeline,\n",
    "                      search_spaces=mp['params'], # same space as GridSearch\n",
    "                      n_iter=20, cv=RepeatedStratifiedKFold(n_splits=10, n_repeats=5, random_state=0))\n",
    "    bayes.fit(X_train, y_train)\n",
    "    scores.append({\n",
    "        'model': model_name,\n",
    "        'best_score': bayes.best_score_,\n",
    "        'best_params': bayes.best_params_\n",
    "    })\n",
    "\n",
    "df = pd.DataFrame(scores, columns=['model', 'best_score', 'best_params'])"
   ]
  },
  {
   "cell_type": "code",
   "execution_count": 35,
   "id": "16cc5161",
   "metadata": {},
   "outputs": [
    {
     "name": "stdout",
     "output_type": "stream",
     "text": [
      "XGBoost with gridsearch::\n",
      "Score: 63.9535%\n",
      "ROC-AUC: 0.6240454398501688\n"
     ]
    }
   ],
   "source": [
    "XGBoost_model = XGBClassifier(objective='binary:logistic', gamma=df.iloc[1]['best_params']['classifier__gamma'], learning_rate=df.iloc[1]['best_params']['classifier__learning_rate'], max_depth=df.iloc[1]['best_params']['classifier__max_depth'], n_estimators=df.iloc[1]['best_params']['classifier__n_estimators'], reg_alpha=df.iloc[1]['best_params']['classifier__reg_alpha'], reg_lambda=df.iloc[1]['best_params']['classifier__reg_lambda'])\n",
    "XGBoost_model.fit(X_train, y_train)\n",
    "\n",
    "test_model('XGBoost with gridsearch:', XGBoost_model, X_test, y_test)"
   ]
  },
  {
   "cell_type": "code",
   "execution_count": 36,
   "id": "be0b7111",
   "metadata": {},
   "outputs": [
    {
     "name": "stdout",
     "output_type": "stream",
     "text": [
      "LightGBM with gridsearch::\n",
      "Score: 62.7907%\n",
      "ROC-AUC: 0.607116977514186\n"
     ]
    }
   ],
   "source": [
    "lightGBM_model = LGBMClassifier(objective=\"binary\", random_state=0, max_depth=df.iloc[0]['best_params']['classifier__max_depth'], n_estimators=df.iloc[0]['best_params']['classifier__n_estimators'], num_leaves=df.iloc[0]['best_params']['classifier__num_leaves'])\n",
    "lightGBM_model.fit(X_train, y_train)\n",
    "\n",
    "test_model('LightGBM with gridsearch:', lightGBM_model, X_test, y_test)"
   ]
  },
  {
   "cell_type": "code",
   "execution_count": null,
   "id": "6f56f9b5",
   "metadata": {},
   "outputs": [],
   "source": []
  }
 ],
 "metadata": {
  "kernelspec": {
   "display_name": "Python 3 (ipykernel)",
   "language": "python",
   "name": "python3"
  },
  "language_info": {
   "codemirror_mode": {
    "name": "ipython",
    "version": 3
   },
   "file_extension": ".py",
   "mimetype": "text/x-python",
   "name": "python",
   "nbconvert_exporter": "python",
   "pygments_lexer": "ipython3",
   "version": "3.10.4"
  }
 },
 "nbformat": 4,
 "nbformat_minor": 5
}
