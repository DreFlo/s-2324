{
 "cells": [
  {
   "cell_type": "code",
   "execution_count": 59,
   "id": "383ad5c9",
   "metadata": {},
   "outputs": [],
   "source": [
    "import json\n",
    "import pandas as pd\n",
    "import numpy as np\n",
    "import matplotlib.pyplot as plt\n",
    "import plotly.graph_objects as go\n",
    "import statistics\n",
    "import random\n",
    "import seaborn as sb\n",
    "\n",
    "from datetime import datetime, timedelta\n",
    "from sklearn.model_selection import train_test_split, GridSearchCV, RepeatedStratifiedKFold\n",
    "from sklearn.metrics import confusion_matrix, classification_report, roc_auc_score, f1_score\n",
    "from sklearn.preprocessing import LabelEncoder, StandardScaler\n",
    "from imblearn.pipeline import Pipeline\n",
    "from sklearn.feature_selection import SelectFromModel\n",
    "\n",
    "from sklearn.linear_model import LogisticRegression\n",
    "from sklearn.svm import SVC\n",
    "from sklearn.tree import DecisionTreeClassifier\n",
    "from sklearn.neural_network import MLPClassifier\n",
    "from sklearn.ensemble import RandomForestClassifier\n",
    "from sklearn.neighbors import KNeighborsClassifier\n",
    "from lightgbm import LGBMClassifier\n",
    "from xgboost import XGBClassifier"
   ]
  },
  {
   "cell_type": "markdown",
   "id": "4638b7f6",
   "metadata": {},
   "source": [
    "# Data Preparation"
   ]
  },
  {
   "cell_type": "code",
   "execution_count": 9,
   "id": "53e1a0e0",
   "metadata": {},
   "outputs": [],
   "source": [
    "def create_subset(size):\n",
    "    with open('../resources/test_data.json', 'r') as file:\n",
    "        data = json.load(file)\n",
    "        \n",
    "    subset_dictionary = {key: data[key] for key in list(data.keys())[:size]}\n",
    "    \n",
    "    with open('../resources/test_data_subset_' + str(size) + '.json', 'w') as file:\n",
    "        json.dump(subset_dictionary, file, indent=2)\n",
    "        \n",
    "    return"
   ]
  },
  {
   "cell_type": "code",
   "execution_count": 10,
   "id": "4781e6cd",
   "metadata": {},
   "outputs": [],
   "source": [
    "create_subset(300)"
   ]
  },
  {
   "cell_type": "code",
   "execution_count": 11,
   "id": "96290395",
   "metadata": {},
   "outputs": [],
   "source": [
    "data_file_path = '../resources/test_data_subset_300.json'\n",
    "dataframe_file_path = '../resources/data_subset_300.csv'"
   ]
  },
  {
   "cell_type": "code",
   "execution_count": 12,
   "id": "77f37c81",
   "metadata": {},
   "outputs": [],
   "source": [
    "def check_data():\n",
    "    df = pd.read_csv(dataframe_file_path)\n",
    "    \n",
    "    print(\"Rows: \", len(df))\n",
    "    for col in df.columns:\n",
    "        print(col, \": \", (df[col].isnull().sum()/len(df)) * 100, \"%\")"
   ]
  },
  {
   "cell_type": "code",
   "execution_count": 13,
   "id": "12d1fcd1",
   "metadata": {},
   "outputs": [
    {
     "name": "stderr",
     "output_type": "stream",
     "text": [
      "C:\\Users\\dluis\\AppData\\Local\\Temp\\ipykernel_37520\\2265969160.py:15: PerformanceWarning: DataFrame is highly fragmented.  This is usually the result of calling `frame.insert` many times, which has poor performance.  Consider joining all columns at once using pd.concat(axis=1) instead. To get a de-fragmented frame, use `newframe = frame.copy()`\n",
      "  df[metric + '_sec_last'] = None\n",
      "C:\\Users\\dluis\\AppData\\Local\\Temp\\ipykernel_37520\\2265969160.py:16: PerformanceWarning: DataFrame is highly fragmented.  This is usually the result of calling `frame.insert` many times, which has poor performance.  Consider joining all columns at once using pd.concat(axis=1) instead. To get a de-fragmented frame, use `newframe = frame.copy()`\n",
      "  df[metric + '_third_last'] = None\n",
      "C:\\Users\\dluis\\AppData\\Local\\Temp\\ipykernel_37520\\2265969160.py:14: PerformanceWarning: DataFrame is highly fragmented.  This is usually the result of calling `frame.insert` many times, which has poor performance.  Consider joining all columns at once using pd.concat(axis=1) instead. To get a de-fragmented frame, use `newframe = frame.copy()`\n",
      "  df[metric + '_last'] = None\n",
      "C:\\Users\\dluis\\AppData\\Local\\Temp\\ipykernel_37520\\2265969160.py:15: PerformanceWarning: DataFrame is highly fragmented.  This is usually the result of calling `frame.insert` many times, which has poor performance.  Consider joining all columns at once using pd.concat(axis=1) instead. To get a de-fragmented frame, use `newframe = frame.copy()`\n",
      "  df[metric + '_sec_last'] = None\n",
      "C:\\Users\\dluis\\AppData\\Local\\Temp\\ipykernel_37520\\2265969160.py:16: PerformanceWarning: DataFrame is highly fragmented.  This is usually the result of calling `frame.insert` many times, which has poor performance.  Consider joining all columns at once using pd.concat(axis=1) instead. To get a de-fragmented frame, use `newframe = frame.copy()`\n",
      "  df[metric + '_third_last'] = None\n",
      "C:\\Users\\dluis\\AppData\\Local\\Temp\\ipykernel_37520\\2265969160.py:14: PerformanceWarning: DataFrame is highly fragmented.  This is usually the result of calling `frame.insert` many times, which has poor performance.  Consider joining all columns at once using pd.concat(axis=1) instead. To get a de-fragmented frame, use `newframe = frame.copy()`\n",
      "  df[metric + '_last'] = None\n",
      "C:\\Users\\dluis\\AppData\\Local\\Temp\\ipykernel_37520\\2265969160.py:15: PerformanceWarning: DataFrame is highly fragmented.  This is usually the result of calling `frame.insert` many times, which has poor performance.  Consider joining all columns at once using pd.concat(axis=1) instead. To get a de-fragmented frame, use `newframe = frame.copy()`\n",
      "  df[metric + '_sec_last'] = None\n",
      "C:\\Users\\dluis\\AppData\\Local\\Temp\\ipykernel_37520\\2265969160.py:16: PerformanceWarning: DataFrame is highly fragmented.  This is usually the result of calling `frame.insert` many times, which has poor performance.  Consider joining all columns at once using pd.concat(axis=1) instead. To get a de-fragmented frame, use `newframe = frame.copy()`\n",
      "  df[metric + '_third_last'] = None\n",
      "C:\\Users\\dluis\\AppData\\Local\\Temp\\ipykernel_37520\\2265969160.py:14: PerformanceWarning: DataFrame is highly fragmented.  This is usually the result of calling `frame.insert` many times, which has poor performance.  Consider joining all columns at once using pd.concat(axis=1) instead. To get a de-fragmented frame, use `newframe = frame.copy()`\n",
      "  df[metric + '_last'] = None\n",
      "C:\\Users\\dluis\\AppData\\Local\\Temp\\ipykernel_37520\\2265969160.py:15: PerformanceWarning: DataFrame is highly fragmented.  This is usually the result of calling `frame.insert` many times, which has poor performance.  Consider joining all columns at once using pd.concat(axis=1) instead. To get a de-fragmented frame, use `newframe = frame.copy()`\n",
      "  df[metric + '_sec_last'] = None\n",
      "C:\\Users\\dluis\\AppData\\Local\\Temp\\ipykernel_37520\\2265969160.py:16: PerformanceWarning: DataFrame is highly fragmented.  This is usually the result of calling `frame.insert` many times, which has poor performance.  Consider joining all columns at once using pd.concat(axis=1) instead. To get a de-fragmented frame, use `newframe = frame.copy()`\n",
      "  df[metric + '_third_last'] = None\n",
      "C:\\Users\\dluis\\AppData\\Local\\Temp\\ipykernel_37520\\2265969160.py:14: PerformanceWarning: DataFrame is highly fragmented.  This is usually the result of calling `frame.insert` many times, which has poor performance.  Consider joining all columns at once using pd.concat(axis=1) instead. To get a de-fragmented frame, use `newframe = frame.copy()`\n",
      "  df[metric + '_last'] = None\n",
      "C:\\Users\\dluis\\AppData\\Local\\Temp\\ipykernel_37520\\2265969160.py:15: PerformanceWarning: DataFrame is highly fragmented.  This is usually the result of calling `frame.insert` many times, which has poor performance.  Consider joining all columns at once using pd.concat(axis=1) instead. To get a de-fragmented frame, use `newframe = frame.copy()`\n",
      "  df[metric + '_sec_last'] = None\n",
      "C:\\Users\\dluis\\AppData\\Local\\Temp\\ipykernel_37520\\2265969160.py:16: PerformanceWarning: DataFrame is highly fragmented.  This is usually the result of calling `frame.insert` many times, which has poor performance.  Consider joining all columns at once using pd.concat(axis=1) instead. To get a de-fragmented frame, use `newframe = frame.copy()`\n",
      "  df[metric + '_third_last'] = None\n",
      "C:\\Users\\dluis\\AppData\\Local\\Temp\\ipykernel_37520\\2265969160.py:14: PerformanceWarning: DataFrame is highly fragmented.  This is usually the result of calling `frame.insert` many times, which has poor performance.  Consider joining all columns at once using pd.concat(axis=1) instead. To get a de-fragmented frame, use `newframe = frame.copy()`\n",
      "  df[metric + '_last'] = None\n",
      "C:\\Users\\dluis\\AppData\\Local\\Temp\\ipykernel_37520\\2265969160.py:15: PerformanceWarning: DataFrame is highly fragmented.  This is usually the result of calling `frame.insert` many times, which has poor performance.  Consider joining all columns at once using pd.concat(axis=1) instead. To get a de-fragmented frame, use `newframe = frame.copy()`\n",
      "  df[metric + '_sec_last'] = None\n",
      "C:\\Users\\dluis\\AppData\\Local\\Temp\\ipykernel_37520\\2265969160.py:16: PerformanceWarning: DataFrame is highly fragmented.  This is usually the result of calling `frame.insert` many times, which has poor performance.  Consider joining all columns at once using pd.concat(axis=1) instead. To get a de-fragmented frame, use `newframe = frame.copy()`\n",
      "  df[metric + '_third_last'] = None\n",
      "C:\\Users\\dluis\\AppData\\Local\\Temp\\ipykernel_37520\\2265969160.py:14: PerformanceWarning: DataFrame is highly fragmented.  This is usually the result of calling `frame.insert` many times, which has poor performance.  Consider joining all columns at once using pd.concat(axis=1) instead. To get a de-fragmented frame, use `newframe = frame.copy()`\n",
      "  df[metric + '_last'] = None\n",
      "C:\\Users\\dluis\\AppData\\Local\\Temp\\ipykernel_37520\\2265969160.py:15: PerformanceWarning: DataFrame is highly fragmented.  This is usually the result of calling `frame.insert` many times, which has poor performance.  Consider joining all columns at once using pd.concat(axis=1) instead. To get a de-fragmented frame, use `newframe = frame.copy()`\n",
      "  df[metric + '_sec_last'] = None\n",
      "C:\\Users\\dluis\\AppData\\Local\\Temp\\ipykernel_37520\\2265969160.py:16: PerformanceWarning: DataFrame is highly fragmented.  This is usually the result of calling `frame.insert` many times, which has poor performance.  Consider joining all columns at once using pd.concat(axis=1) instead. To get a de-fragmented frame, use `newframe = frame.copy()`\n",
      "  df[metric + '_third_last'] = None\n",
      "C:\\Users\\dluis\\AppData\\Local\\Temp\\ipykernel_37520\\2265969160.py:14: PerformanceWarning: DataFrame is highly fragmented.  This is usually the result of calling `frame.insert` many times, which has poor performance.  Consider joining all columns at once using pd.concat(axis=1) instead. To get a de-fragmented frame, use `newframe = frame.copy()`\n",
      "  df[metric + '_last'] = None\n",
      "C:\\Users\\dluis\\AppData\\Local\\Temp\\ipykernel_37520\\2265969160.py:15: PerformanceWarning: DataFrame is highly fragmented.  This is usually the result of calling `frame.insert` many times, which has poor performance.  Consider joining all columns at once using pd.concat(axis=1) instead. To get a de-fragmented frame, use `newframe = frame.copy()`\n",
      "  df[metric + '_sec_last'] = None\n",
      "C:\\Users\\dluis\\AppData\\Local\\Temp\\ipykernel_37520\\2265969160.py:16: PerformanceWarning: DataFrame is highly fragmented.  This is usually the result of calling `frame.insert` many times, which has poor performance.  Consider joining all columns at once using pd.concat(axis=1) instead. To get a de-fragmented frame, use `newframe = frame.copy()`\n",
      "  df[metric + '_third_last'] = None\n",
      "C:\\Users\\dluis\\AppData\\Local\\Temp\\ipykernel_37520\\2265969160.py:14: PerformanceWarning: DataFrame is highly fragmented.  This is usually the result of calling `frame.insert` many times, which has poor performance.  Consider joining all columns at once using pd.concat(axis=1) instead. To get a de-fragmented frame, use `newframe = frame.copy()`\n",
      "  df[metric + '_last'] = None\n",
      "C:\\Users\\dluis\\AppData\\Local\\Temp\\ipykernel_37520\\2265969160.py:15: PerformanceWarning: DataFrame is highly fragmented.  This is usually the result of calling `frame.insert` many times, which has poor performance.  Consider joining all columns at once using pd.concat(axis=1) instead. To get a de-fragmented frame, use `newframe = frame.copy()`\n",
      "  df[metric + '_sec_last'] = None\n",
      "C:\\Users\\dluis\\AppData\\Local\\Temp\\ipykernel_37520\\2265969160.py:16: PerformanceWarning: DataFrame is highly fragmented.  This is usually the result of calling `frame.insert` many times, which has poor performance.  Consider joining all columns at once using pd.concat(axis=1) instead. To get a de-fragmented frame, use `newframe = frame.copy()`\n",
      "  df[metric + '_third_last'] = None\n",
      "C:\\Users\\dluis\\AppData\\Local\\Temp\\ipykernel_37520\\2265969160.py:14: PerformanceWarning: DataFrame is highly fragmented.  This is usually the result of calling `frame.insert` many times, which has poor performance.  Consider joining all columns at once using pd.concat(axis=1) instead. To get a de-fragmented frame, use `newframe = frame.copy()`\n",
      "  df[metric + '_last'] = None\n",
      "C:\\Users\\dluis\\AppData\\Local\\Temp\\ipykernel_37520\\2265969160.py:15: PerformanceWarning: DataFrame is highly fragmented.  This is usually the result of calling `frame.insert` many times, which has poor performance.  Consider joining all columns at once using pd.concat(axis=1) instead. To get a de-fragmented frame, use `newframe = frame.copy()`\n",
      "  df[metric + '_sec_last'] = None\n",
      "C:\\Users\\dluis\\AppData\\Local\\Temp\\ipykernel_37520\\2265969160.py:16: PerformanceWarning: DataFrame is highly fragmented.  This is usually the result of calling `frame.insert` many times, which has poor performance.  Consider joining all columns at once using pd.concat(axis=1) instead. To get a de-fragmented frame, use `newframe = frame.copy()`\n",
      "  df[metric + '_third_last'] = None\n",
      "C:\\Users\\dluis\\AppData\\Local\\Temp\\ipykernel_37520\\2265969160.py:14: PerformanceWarning: DataFrame is highly fragmented.  This is usually the result of calling `frame.insert` many times, which has poor performance.  Consider joining all columns at once using pd.concat(axis=1) instead. To get a de-fragmented frame, use `newframe = frame.copy()`\n",
      "  df[metric + '_last'] = None\n"
     ]
    },
    {
     "name": "stderr",
     "output_type": "stream",
     "text": [
      "C:\\Users\\dluis\\AppData\\Local\\Temp\\ipykernel_37520\\2265969160.py:15: PerformanceWarning: DataFrame is highly fragmented.  This is usually the result of calling `frame.insert` many times, which has poor performance.  Consider joining all columns at once using pd.concat(axis=1) instead. To get a de-fragmented frame, use `newframe = frame.copy()`\n",
      "  df[metric + '_sec_last'] = None\n",
      "C:\\Users\\dluis\\AppData\\Local\\Temp\\ipykernel_37520\\2265969160.py:16: PerformanceWarning: DataFrame is highly fragmented.  This is usually the result of calling `frame.insert` many times, which has poor performance.  Consider joining all columns at once using pd.concat(axis=1) instead. To get a de-fragmented frame, use `newframe = frame.copy()`\n",
      "  df[metric + '_third_last'] = None\n",
      "C:\\Users\\dluis\\AppData\\Local\\Temp\\ipykernel_37520\\2265969160.py:14: PerformanceWarning: DataFrame is highly fragmented.  This is usually the result of calling `frame.insert` many times, which has poor performance.  Consider joining all columns at once using pd.concat(axis=1) instead. To get a de-fragmented frame, use `newframe = frame.copy()`\n",
      "  df[metric + '_last'] = None\n",
      "C:\\Users\\dluis\\AppData\\Local\\Temp\\ipykernel_37520\\2265969160.py:15: PerformanceWarning: DataFrame is highly fragmented.  This is usually the result of calling `frame.insert` many times, which has poor performance.  Consider joining all columns at once using pd.concat(axis=1) instead. To get a de-fragmented frame, use `newframe = frame.copy()`\n",
      "  df[metric + '_sec_last'] = None\n",
      "C:\\Users\\dluis\\AppData\\Local\\Temp\\ipykernel_37520\\2265969160.py:16: PerformanceWarning: DataFrame is highly fragmented.  This is usually the result of calling `frame.insert` many times, which has poor performance.  Consider joining all columns at once using pd.concat(axis=1) instead. To get a de-fragmented frame, use `newframe = frame.copy()`\n",
      "  df[metric + '_third_last'] = None\n",
      "C:\\Users\\dluis\\AppData\\Local\\Temp\\ipykernel_37520\\2265969160.py:14: PerformanceWarning: DataFrame is highly fragmented.  This is usually the result of calling `frame.insert` many times, which has poor performance.  Consider joining all columns at once using pd.concat(axis=1) instead. To get a de-fragmented frame, use `newframe = frame.copy()`\n",
      "  df[metric + '_last'] = None\n",
      "C:\\Users\\dluis\\AppData\\Local\\Temp\\ipykernel_37520\\2265969160.py:15: PerformanceWarning: DataFrame is highly fragmented.  This is usually the result of calling `frame.insert` many times, which has poor performance.  Consider joining all columns at once using pd.concat(axis=1) instead. To get a de-fragmented frame, use `newframe = frame.copy()`\n",
      "  df[metric + '_sec_last'] = None\n",
      "C:\\Users\\dluis\\AppData\\Local\\Temp\\ipykernel_37520\\2265969160.py:16: PerformanceWarning: DataFrame is highly fragmented.  This is usually the result of calling `frame.insert` many times, which has poor performance.  Consider joining all columns at once using pd.concat(axis=1) instead. To get a de-fragmented frame, use `newframe = frame.copy()`\n",
      "  df[metric + '_third_last'] = None\n",
      "C:\\Users\\dluis\\AppData\\Local\\Temp\\ipykernel_37520\\2265969160.py:14: PerformanceWarning: DataFrame is highly fragmented.  This is usually the result of calling `frame.insert` many times, which has poor performance.  Consider joining all columns at once using pd.concat(axis=1) instead. To get a de-fragmented frame, use `newframe = frame.copy()`\n",
      "  df[metric + '_last'] = None\n",
      "C:\\Users\\dluis\\AppData\\Local\\Temp\\ipykernel_37520\\2265969160.py:15: PerformanceWarning: DataFrame is highly fragmented.  This is usually the result of calling `frame.insert` many times, which has poor performance.  Consider joining all columns at once using pd.concat(axis=1) instead. To get a de-fragmented frame, use `newframe = frame.copy()`\n",
      "  df[metric + '_sec_last'] = None\n",
      "C:\\Users\\dluis\\AppData\\Local\\Temp\\ipykernel_37520\\2265969160.py:16: PerformanceWarning: DataFrame is highly fragmented.  This is usually the result of calling `frame.insert` many times, which has poor performance.  Consider joining all columns at once using pd.concat(axis=1) instead. To get a de-fragmented frame, use `newframe = frame.copy()`\n",
      "  df[metric + '_third_last'] = None\n",
      "C:\\Users\\dluis\\AppData\\Local\\Temp\\ipykernel_37520\\2265969160.py:14: PerformanceWarning: DataFrame is highly fragmented.  This is usually the result of calling `frame.insert` many times, which has poor performance.  Consider joining all columns at once using pd.concat(axis=1) instead. To get a de-fragmented frame, use `newframe = frame.copy()`\n",
      "  df[metric + '_last'] = None\n",
      "C:\\Users\\dluis\\AppData\\Local\\Temp\\ipykernel_37520\\2265969160.py:15: PerformanceWarning: DataFrame is highly fragmented.  This is usually the result of calling `frame.insert` many times, which has poor performance.  Consider joining all columns at once using pd.concat(axis=1) instead. To get a de-fragmented frame, use `newframe = frame.copy()`\n",
      "  df[metric + '_sec_last'] = None\n",
      "C:\\Users\\dluis\\AppData\\Local\\Temp\\ipykernel_37520\\2265969160.py:16: PerformanceWarning: DataFrame is highly fragmented.  This is usually the result of calling `frame.insert` many times, which has poor performance.  Consider joining all columns at once using pd.concat(axis=1) instead. To get a de-fragmented frame, use `newframe = frame.copy()`\n",
      "  df[metric + '_third_last'] = None\n"
     ]
    }
   ],
   "source": [
    "with open(data_file_path, 'r') as file:\n",
    "    data = json.load(file)\n",
    "\n",
    "symbols = list(data.keys())\n",
    "\n",
    "metrics = list(data[symbols[0]]['key_metrics_by_form']['10-Q'].keys())\n",
    "\n",
    "df = pd.DataFrame(columns=['symbol'])\n",
    "\n",
    "df['stock_change_before'] = None\n",
    "df['buy'] = None\n",
    "\n",
    "for metric in metrics:\n",
    "    df[metric + '_last'] = None\n",
    "    df[metric + '_sec_last'] = None\n",
    "    df[metric + '_third_last'] = None\n",
    "\n",
    "for symbol in symbols:\n",
    "    dates = list(data[symbol]['facts_by_form']['10-Q']['fileds']) + list(data[symbol]['facts_by_form']['10-K']['fileds'])\n",
    "    dates = list(set(dates))\n",
    "    dates.sort()\n",
    "\n",
    "    if len(dates) < 6:\n",
    "        continue\n",
    "\n",
    "    encoded_symbol = LabelEncoder().fit_transform([symbol])[0]\n",
    "\n",
    "    start_date = datetime.strptime(dates[3], '%Y-%m-%d')\n",
    "    end_date = datetime.strptime(dates[-2], '%Y-%m-%d')\n",
    "    random_dates = []\n",
    "\n",
    "    for _ in range(len(dates) // 2):\n",
    "        random_date = start_date + (end_date - start_date) * random.random()\n",
    "        random_dates.append(random_date.strftime('%Y-%m-%d'))\n",
    "\n",
    "    for date in random_dates:\n",
    "        date_dt = datetime.strptime(date, '%Y-%m-%d')\n",
    "        row_values = [encoded_symbol]\n",
    "\n",
    "        stock_dates = list(data[symbol]['stock_price_history'].keys())\n",
    "        stock_change_over = []\n",
    "        stock_change_before = []\n",
    "        for i, stock_date in enumerate(stock_dates):\n",
    "            stock_date_dt = datetime.strptime(stock_date, '%Y-%m-%d')\n",
    "\n",
    "            if (stock_date_dt - date_dt).days < 30 and (stock_date_dt - date_dt).days > 0:\n",
    "                stock_change_over.append(data[symbol]['stock_price_history'][stock_date]['close'] - data[symbol]['stock_price_history'][stock_dates[i-1]]['close'])\n",
    "            elif (stock_date_dt - date_dt).days > -30 and (stock_date_dt - date_dt).days < 0:\n",
    "                stock_change_before.append(data[symbol]['stock_price_history'][stock_date]['close'] - data[symbol]['stock_price_history'][stock_dates[i-1]]['close'])\n",
    "\n",
    "        if len(stock_change_over) == 0 or len(stock_change_before) == 0:\n",
    "            continue\n",
    "        else:\n",
    "            row_values.append(statistics.median(stock_change_before))\n",
    "\n",
    "            median_over = statistics.median(stock_change_over)\n",
    "            if median_over > 0:\n",
    "                row_values.append(1)\n",
    "            else:\n",
    "                row_values.append(0)\n",
    "\n",
    "        dates_before = [_date for _date in dates if _date <= date]\n",
    "\n",
    "        for metric in metrics: \n",
    "            found_no = 0\n",
    "\n",
    "            for _date in dates_before[::-1]:\n",
    "                if found_no == 3:\n",
    "                    break\n",
    "\n",
    "                if _date in data[symbol]['key_metrics_by_form']['10-Q'][metric]:\n",
    "                    if type(data[symbol]['key_metrics_by_form']['10-Q'][metric][_date]) == dict:\n",
    "                        row_values.append(data[symbol]['key_metrics_by_form']['10-Q'][metric][_date]['val'])\n",
    "                        found_no += 1\n",
    "                        continue\n",
    "\n",
    "                if _date in data[symbol]['key_metrics_by_form']['10-K'][metric]:\n",
    "                    if type(data[symbol]['key_metrics_by_form']['10-K'][metric][_date]) == dict:\n",
    "                        row_values.append(data[symbol]['key_metrics_by_form']['10-K'][metric][_date]['val'])\n",
    "                        found_no += 1\n",
    "                        continue\n",
    "\n",
    "            while found_no < 3:\n",
    "                row_values.append(np.nan)\n",
    "                found_no += 1\n",
    "\n",
    "        df.loc[len(df)] = row_values\n",
    "\n",
    "df.dropna(how='all', inplace=True)\n",
    "\n",
    "df.to_csv(dataframe_file_path, index=False)"
   ]
  },
  {
   "cell_type": "code",
   "execution_count": 16,
   "id": "5af68edd",
   "metadata": {},
   "outputs": [
    {
     "name": "stdout",
     "output_type": "stream",
     "text": [
      "Rows: 3123\n",
      "Columns: 144\n",
      "Rows: 0\n",
      "Columns: 144\n"
     ]
    }
   ],
   "source": [
    "test_df = pd.read_csv(dataframe_file_path)\n",
    "\n",
    "print(f'Rows: {len(test_df)}')\n",
    "print(f'Columns: {len(test_df.columns)}')\n",
    "\n",
    "for column in test_df:\n",
    "    if test_df[column].isnull().all():\n",
    "        print(column)\n",
    "        test_df.drop(columns=[column])\n",
    "\n",
    "test_df.dropna(inplace=True)\n",
    "\n",
    "print(f'Rows: {len(test_df)}')\n",
    "print(f'Columns: {len(test_df.columns)}')"
   ]
  },
  {
   "cell_type": "markdown",
   "id": "064dc22d",
   "metadata": {},
   "source": [
    "# Testing the Model"
   ]
  },
  {
   "cell_type": "code",
   "execution_count": 42,
   "id": "078c62b4",
   "metadata": {},
   "outputs": [],
   "source": [
    "def test_model(name, model, X_test, y_test):\n",
    "    print(name + \":\")\n",
    "    print(\"Score: {:.4f}%\".format(model.score(X_test, y_test) * 100))\n",
    "    \n",
    "    y_pred = model.predict(X_test)\n",
    "    print(\"ROC-AUC:\", roc_auc_score(y_test, y_pred))\n",
    "    #print(confusion_matrix(y_test, y_pred))\n",
    "    #print(classification_report(y_test, y_pred))\n",
    "    \n",
    "    return"
   ]
  },
  {
   "cell_type": "code",
   "execution_count": 45,
   "id": "55776409",
   "metadata": {},
   "outputs": [],
   "source": [
    "def test_both_models(lightGBM, XGBoost, X_train, y_train, X_test, y_test):\n",
    "    lightGBM.fit(X_train, y_train)\n",
    "    test_model('lightGBM', lightGBM, X_test, y_test)\n",
    "    \n",
    "    XGBoost.fit(X_train, y_train)\n",
    "    test_model('\\nXGBoost', XGBoost, X_test, y_test)\n",
    "    \n",
    "    return"
   ]
  },
  {
   "cell_type": "code",
   "execution_count": 52,
   "id": "ab612c31",
   "metadata": {},
   "outputs": [],
   "source": [
    "df = pd.read_csv(dataframe_file_path)\n",
    "    \n",
    "X = df.drop('buy', axis=1)\n",
    "y = df['buy']\n",
    "\n",
    "X_train, X_test, y_train, y_test = train_test_split(X, y, test_size=0.2, random_state=42)"
   ]
  },
  {
   "cell_type": "markdown",
   "id": "b10067e6",
   "metadata": {},
   "source": [
    "## Baseline"
   ]
  },
  {
   "cell_type": "markdown",
   "id": "bd3cd80d",
   "metadata": {},
   "source": [
    "## We can use 'model.predict_proba' to get the probability of each"
   ]
  },
  {
   "cell_type": "code",
   "execution_count": 46,
   "id": "b9666e78",
   "metadata": {},
   "outputs": [
    {
     "name": "stdout",
     "output_type": "stream",
     "text": [
      "lightGBM:\n",
      "Score: 59.2000%\n",
      "ROC-AUC: 0.585126093669583\n",
      "\n",
      "XGBoost:\n",
      "Score: 58.5600%\n",
      "ROC-AUC: 0.5812403499742667\n"
     ]
    }
   ],
   "source": [
    "lightGBM = LGBMClassifier(objective=\"binary\", random_state=0)\n",
    "XGBoost = XGBClassifier(objective='binary:logistic')\n",
    "\n",
    "test_both_models(lightGBM, XGBoost, X_train, y_train, X_test, y_test)"
   ]
  },
  {
   "cell_type": "markdown",
   "id": "f47c0902",
   "metadata": {},
   "source": [
    "## Scaling"
   ]
  },
  {
   "cell_type": "code",
   "execution_count": 60,
   "id": "716ab686",
   "metadata": {},
   "outputs": [
    {
     "name": "stdout",
     "output_type": "stream",
     "text": [
      "lightGBM:\n",
      "Score: 58.0800%\n",
      "ROC-AUC: 0.5751415337107566\n",
      "\n",
      "XGBoost:\n",
      "Score: 58.8800%\n",
      "ROC-AUC: 0.5839938239835306\n"
     ]
    }
   ],
   "source": [
    "df = pd.read_csv(dataframe_file_path)\n",
    "    \n",
    "X = df.drop('buy', axis=1)\n",
    "y = df['buy']\n",
    "\n",
    "scaler = StandardScaler()\n",
    "X = pd.DataFrame(scaler.fit_transform(X), columns=X.columns)\n",
    "\n",
    "X_train, X_test, y_train, y_test = train_test_split(X, y, test_size=0.2, random_state=42)\n",
    "\n",
    "lightGBM = LGBMClassifier(objective=\"binary\", random_state=0)\n",
    "XGBoost = XGBClassifier(objective='binary:logistic')\n",
    "\n",
    "test_both_models(lightGBM, XGBoost, X_train, y_train, X_test, y_test)"
   ]
  },
  {
   "cell_type": "markdown",
   "id": "23aacc81",
   "metadata": {},
   "source": [
    "## Feature Selection"
   ]
  },
  {
   "cell_type": "code",
   "execution_count": 61,
   "id": "617741dc",
   "metadata": {},
   "outputs": [
    {
     "name": "stdout",
     "output_type": "stream",
     "text": [
      "ROC-AUC: 0.575142; F1: 0.523636\n",
      "Threshold=0; ROC-AUC: 0.575142; F1: 0.523636\n",
      "Threshold=0; ROC-AUC: 0.575142; F1: 0.523636\n",
      "Threshold=0; ROC-AUC: 0.575142; F1: 0.523636\n",
      "Threshold=0; ROC-AUC: 0.575142; F1: 0.523636\n",
      "Threshold=0; ROC-AUC: 0.575142; F1: 0.523636\n",
      "Threshold=0; ROC-AUC: 0.575142; F1: 0.523636\n",
      "Threshold=0; ROC-AUC: 0.575142; F1: 0.523636\n",
      "Threshold=0; ROC-AUC: 0.575142; F1: 0.523636\n",
      "Threshold=0; ROC-AUC: 0.575142; F1: 0.523636\n",
      "Threshold=0; ROC-AUC: 0.575142; F1: 0.523636\n",
      "Threshold=0; ROC-AUC: 0.575142; F1: 0.523636\n",
      "Threshold=0; ROC-AUC: 0.575142; F1: 0.523636\n",
      "Threshold=0; ROC-AUC: 0.575142; F1: 0.523636\n",
      "Threshold=0; ROC-AUC: 0.575142; F1: 0.523636\n",
      "Threshold=0; ROC-AUC: 0.575142; F1: 0.523636\n",
      "Threshold=0; ROC-AUC: 0.575142; F1: 0.523636\n",
      "Threshold=0; ROC-AUC: 0.575142; F1: 0.523636\n",
      "Threshold=0; ROC-AUC: 0.575142; F1: 0.523636\n",
      "Threshold=0; ROC-AUC: 0.575142; F1: 0.523636\n",
      "Threshold=0; ROC-AUC: 0.575142; F1: 0.523636\n",
      "Threshold=0; ROC-AUC: 0.575142; F1: 0.523636\n",
      "Threshold=0; ROC-AUC: 0.575142; F1: 0.523636\n",
      "Threshold=1; ROC-AUC: 0.575142; F1: 0.523636\n",
      "Threshold=1; ROC-AUC: 0.575142; F1: 0.523636\n",
      "Threshold=1; ROC-AUC: 0.575142; F1: 0.523636\n",
      "Threshold=1; ROC-AUC: 0.575142; F1: 0.523636\n",
      "Threshold=2; ROC-AUC: 0.596629; F1: 0.551351\n",
      "Threshold=2; ROC-AUC: 0.596629; F1: 0.551351\n",
      "Threshold=2; ROC-AUC: 0.596629; F1: 0.551351\n",
      "Threshold=2; ROC-AUC: 0.596629; F1: 0.551351\n",
      "Threshold=2; ROC-AUC: 0.596629; F1: 0.551351\n",
      "Threshold=2; ROC-AUC: 0.596629; F1: 0.551351\n",
      "Threshold=2; ROC-AUC: 0.596629; F1: 0.551351\n",
      "Threshold=3; ROC-AUC: 0.568477; F1: 0.514599\n",
      "Threshold=3; ROC-AUC: 0.568477; F1: 0.514599\n",
      "Threshold=3; ROC-AUC: 0.568477; F1: 0.514599\n",
      "Threshold=4; ROC-AUC: 0.580777; F1: 0.535009\n",
      "Threshold=4; ROC-AUC: 0.580777; F1: 0.535009\n",
      "Threshold=4; ROC-AUC: 0.580777; F1: 0.535009\n",
      "Threshold=4; ROC-AUC: 0.580777; F1: 0.535009\n",
      "Threshold=4; ROC-AUC: 0.580777; F1: 0.535009\n",
      "Threshold=5; ROC-AUC: 0.573649; F1: 0.522686\n",
      "Threshold=5; ROC-AUC: 0.573649; F1: 0.522686\n",
      "Threshold=6; ROC-AUC: 0.591688; F1: 0.545126\n",
      "Threshold=6; ROC-AUC: 0.591688; F1: 0.545126\n",
      "Threshold=6; ROC-AUC: 0.591688; F1: 0.545126\n",
      "Threshold=6; ROC-AUC: 0.591688; F1: 0.545126\n",
      "Threshold=6; ROC-AUC: 0.591688; F1: 0.545126\n",
      "Threshold=7; ROC-AUC: 0.569403; F1: 0.521583\n",
      "Threshold=7; ROC-AUC: 0.569403; F1: 0.521583\n",
      "Threshold=7; ROC-AUC: 0.569403; F1: 0.521583\n",
      "Threshold=7; ROC-AUC: 0.569403; F1: 0.521583\n",
      "Threshold=7; ROC-AUC: 0.569403; F1: 0.521583\n",
      "Threshold=7; ROC-AUC: 0.569403; F1: 0.521583\n",
      "Threshold=8; ROC-AUC: 0.565260; F1: 0.510949\n",
      "Threshold=8; ROC-AUC: 0.565260; F1: 0.510949\n",
      "Threshold=8; ROC-AUC: 0.565260; F1: 0.510949\n",
      "Threshold=8; ROC-AUC: 0.565260; F1: 0.510949\n",
      "Threshold=8; ROC-AUC: 0.565260; F1: 0.510949\n",
      "Threshold=8; ROC-AUC: 0.565260; F1: 0.510949\n",
      "Threshold=9; ROC-AUC: 0.578255; F1: 0.536412\n",
      "Threshold=9; ROC-AUC: 0.578255; F1: 0.536412\n",
      "Threshold=9; ROC-AUC: 0.578255; F1: 0.536412\n",
      "Threshold=9; ROC-AUC: 0.578255; F1: 0.536412\n",
      "Threshold=9; ROC-AUC: 0.578255; F1: 0.536412\n",
      "Threshold=9; ROC-AUC: 0.578255; F1: 0.536412\n",
      "Threshold=9; ROC-AUC: 0.578255; F1: 0.536412\n",
      "Threshold=10; ROC-AUC: 0.564462; F1: 0.515315\n",
      "Threshold=10; ROC-AUC: 0.564462; F1: 0.515315\n",
      "Threshold=10; ROC-AUC: 0.564462; F1: 0.515315\n",
      "Threshold=11; ROC-AUC: 0.567679; F1: 0.518919\n",
      "Threshold=11; ROC-AUC: 0.567679; F1: 0.518919\n",
      "Threshold=11; ROC-AUC: 0.567679; F1: 0.518919\n",
      "Threshold=12; ROC-AUC: 0.562970; F1: 0.514388\n",
      "Threshold=12; ROC-AUC: 0.562970; F1: 0.514388\n",
      "Threshold=13; ROC-AUC: 0.555507; F1: 0.509804\n",
      "Threshold=13; ROC-AUC: 0.555507; F1: 0.509804\n",
      "Threshold=13; ROC-AUC: 0.555507; F1: 0.509804\n",
      "Threshold=13; ROC-AUC: 0.555507; F1: 0.509804\n",
      "Threshold=13; ROC-AUC: 0.555507; F1: 0.509804\n",
      "Threshold=15; ROC-AUC: 0.571693; F1: 0.518248\n",
      "Threshold=15; ROC-AUC: 0.571693; F1: 0.518248\n",
      "Threshold=15; ROC-AUC: 0.571693; F1: 0.518248\n",
      "Threshold=16; ROC-AUC: 0.566650; F1: 0.521429\n",
      "Threshold=17; ROC-AUC: 0.571359; F1: 0.525939\n",
      "Threshold=18; ROC-AUC: 0.572156; F1: 0.521739\n",
      "Threshold=18; ROC-AUC: 0.572156; F1: 0.521739\n",
      "Threshold=18; ROC-AUC: 0.572156; F1: 0.521739\n",
      "Threshold=20; ROC-AUC: 0.552856; F1: 0.500000\n",
      "Threshold=20; ROC-AUC: 0.552856; F1: 0.500000\n",
      "Threshold=20; ROC-AUC: 0.552856; F1: 0.500000\n",
      "Threshold=20; ROC-AUC: 0.552856; F1: 0.500000\n",
      "Threshold=21; ROC-AUC: 0.569635; F1: 0.523297\n",
      "Threshold=22; ROC-AUC: 0.548842; F1: 0.500894\n",
      "Threshold=22; ROC-AUC: 0.548842; F1: 0.500894\n",
      "Threshold=24; ROC-AUC: 0.563664; F1: 0.519573\n",
      "Threshold=25; ROC-AUC: 0.570098; F1: 0.526690\n",
      "Threshold=25; ROC-AUC: 0.570098; F1: 0.526690\n",
      "Threshold=25; ROC-AUC: 0.570098; F1: 0.526690\n",
      "Threshold=25; ROC-AUC: 0.570098; F1: 0.526690\n",
      "Threshold=27; ROC-AUC: 0.571359; F1: 0.525939\n",
      "Threshold=27; ROC-AUC: 0.571359; F1: 0.525939\n",
      "Threshold=27; ROC-AUC: 0.571359; F1: 0.525939\n",
      "Threshold=28; ROC-AUC: 0.576531; F1: 0.533808\n",
      "Threshold=29; ROC-AUC: 0.561477; F1: 0.513465\n",
      "Threshold=32; ROC-AUC: 0.557231; F1: 0.512456\n",
      "Threshold=32; ROC-AUC: 0.557231; F1: 0.512456\n",
      "Threshold=32; ROC-AUC: 0.557231; F1: 0.512456\n",
      "Threshold=33; ROC-AUC: 0.595703; F1: 0.544790\n",
      "Threshold=33; ROC-AUC: 0.595703; F1: 0.544790\n",
      "Threshold=34; ROC-AUC: 0.565723; F1: 0.514493\n",
      "Threshold=36; ROC-AUC: 0.575605; F1: 0.527076\n",
      "Threshold=37; ROC-AUC: 0.587777; F1: 0.536496\n",
      "Threshold=38; ROC-AUC: 0.586979; F1: 0.540541\n",
      "Threshold=38; ROC-AUC: 0.586979; F1: 0.540541\n",
      "Threshold=39; ROC-AUC: 0.586413; F1: 0.546099\n",
      "Threshold=40; ROC-AUC: 0.608466; F1: 0.567857\n",
      "Threshold=42; ROC-AUC: 0.586413; F1: 0.546099\n",
      "Threshold=42; ROC-AUC: 0.586413; F1: 0.546099\n",
      "Threshold=42; ROC-AUC: 0.586413; F1: 0.546099\n",
      "Threshold=44; ROC-AUC: 0.572388; F1: 0.523466\n",
      "Threshold=45; ROC-AUC: 0.589964; F1: 0.542495\n",
      "Threshold=45; ROC-AUC: 0.589964; F1: 0.542495\n",
      "Threshold=47; ROC-AUC: 0.586284; F1: 0.535519\n",
      "Threshold=47; ROC-AUC: 0.586284; F1: 0.535519\n",
      "Threshold=50; ROC-AUC: 0.586516; F1: 0.537205\n",
      "Threshold=51; ROC-AUC: 0.588471; F1: 0.541516\n",
      "Threshold=51; ROC-AUC: 0.588471; F1: 0.541516\n",
      "Threshold=55; ROC-AUC: 0.585821; F1: 0.532110\n",
      "Threshold=57; ROC-AUC: 0.577097; F1: 0.528029\n",
      "Threshold=57; ROC-AUC: 0.577097; F1: 0.528029\n",
      "Threshold=60; ROC-AUC: 0.594313; F1: 0.534579\n",
      "Threshold=61; ROC-AUC: 0.580648; F1: 0.523985\n",
      "Threshold=62; ROC-AUC: 0.589707; F1: 0.520076\n",
      "Threshold=64; ROC-AUC: 0.576737; F1: 0.514925\n",
      "Threshold=67; ROC-AUC: 0.572259; F1: 0.512059\n",
      "Threshold=67; ROC-AUC: 0.572259; F1: 0.512059\n",
      "Threshold=72; ROC-AUC: 0.588677; F1: 0.522727\n",
      "Threshold=73; ROC-AUC: 0.562944; F1: 0.492424\n",
      "Threshold=73; ROC-AUC: 0.562944; F1: 0.492424\n",
      "Threshold=75; ROC-AUC: 0.546166; F1: 0.467433\n",
      "Threshold=108; ROC-AUC: 0.565594; F1: 0.502793\n",
      "Threshold=188; ROC-AUC: 0.555790; F1: 0.453441\n"
     ]
    },
    {
     "data": {
      "text/plain": [
       "<AxesSubplot:xlabel='threshold', ylabel='roc-auc'>"
      ]
     },
     "execution_count": 61,
     "metadata": {},
     "output_type": "execute_result"
    },
    {
     "data": {
      "image/png": "[encoded data removed]",
      "text/plain": [
       "<Figure size 432x288 with 1 Axes>"
      ]
     },
     "metadata": {
      "needs_background": "light"
     },
     "output_type": "display_data"
    }
   ],
   "source": [
    "m = LGBMClassifier(objective=\"binary\", random_state=0)\n",
    "m.fit(X_train, y_train)\n",
    "\n",
    "y_pred = m.predict(X_test)\n",
    "rocauc = roc_auc_score(y_test, y_pred)\n",
    "f1 = f1_score(y_test, y_pred)\n",
    "print(\"ROC-AUC: %f; F1: %f\" % (rocauc, f1))\n",
    "\n",
    "thresholds_df = pd.DataFrame()\n",
    "\n",
    "thresholds = np.sort(m.feature_importances_)\n",
    "for tr in thresholds:\n",
    "    sel = SelectFromModel(m, threshold=tr, prefit=True)\n",
    "    sel_X_train = sel.transform(X_train.values)\n",
    "    #\n",
    "    clf = LGBMClassifier(objective=\"binary\", random_state=0)\n",
    "    clf.fit(sel_X_train, y_train)\n",
    "    #\n",
    "    sel_X_test = sel.transform(X_test.values)\n",
    "    y_pred = clf.predict(sel_X_test)\n",
    "    rocauc = roc_auc_score(y_test, y_pred)\n",
    "    f1 = f1_score(y_test, y_pred)\n",
    "    right_df = pd.DataFrame([[tr, rocauc]], columns=['threshold', 'roc-auc'])\n",
    "    print(\"Threshold=%s; ROC-AUC: %f; F1: %f\" % (tr, rocauc, f1))\n",
    "    thresholds_df = pd.concat([thresholds_df, right_df], axis=0, join=\"outer\", ignore_index=True)\n",
    "\n",
    "sb.scatterplot(x=\"threshold\", y=\"roc-auc\", data=thresholds_df)"
   ]
  },
  {
   "cell_type": "code",
   "execution_count": 62,
   "id": "37d0d6d4",
   "metadata": {},
   "outputs": [
    {
     "name": "stdout",
     "output_type": "stream",
     "text": [
      "Best: \n",
      "Threshold = 40.0 \n",
      "ROC-AUC = 0.6084662892434379\n"
     ]
    }
   ],
   "source": [
    "best = thresholds_df.sort_values(\"roc-auc\", ascending=False).iloc[0]\n",
    "print(\"Best: \\nThreshold = {} \\nROC-AUC = {}\".format(best[\"threshold\"], best[\"roc-auc\"]))"
   ]
  },
  {
   "cell_type": "code",
   "execution_count": 63,
   "id": "de66809f",
   "metadata": {},
   "outputs": [
    {
     "name": "stdout",
     "output_type": "stream",
     "text": [
      "Index(['stock_change_before', 'FreeCashFlow_last', 'IncomeQuality_last',\n",
      "       'IncomeQuality_sec_last', 'IncomeQuality_third_last',\n",
      "       'ReturnOnEquity_last', 'ReturnOnEquity_sec_last',\n",
      "       'ReturnOnEquity_third_last', 'CapexPerShare_last',\n",
      "       'CapexPerShare_sec_last', 'CapexPerShare_third_last', 'CashRatio_last',\n",
      "       'CashRatio_third_last', 'ReturnOnAssets_sec_last',\n",
      "       'ReturnOnAssets_third_last', 'NetIncomePerEBT_third_last',\n",
      "       'CapitalExpenditureCoverageRatio_third_last',\n",
      "       'CashFlowToDebtRatio_last'],\n",
      "      dtype='object') 18\n"
     ]
    }
   ],
   "source": [
    "sel = SelectFromModel(LGBMClassifier(objective=\"binary\", random_state=0), threshold=48)\n",
    "sel.fit(X_train, y_train)\n",
    "selected_attr = X_train.columns[(sel.get_support())]\n",
    "print(selected_attr, len(selected_attr))"
   ]
  },
  {
   "cell_type": "code",
   "execution_count": 64,
   "id": "fae38c1c",
   "metadata": {},
   "outputs": [],
   "source": [
    "attr_to_drop = set(df.columns) - set(selected_attr)\n",
    "attr_to_drop.remove('buy')\n",
    "\n",
    "df.drop(attr_to_drop, axis=1, inplace=True)\n",
    "\n",
    "X = df.drop('buy', axis=1)\n",
    "y = df['buy']\n",
    "\n",
    "X_train, X_test, y_train, y_test = train_test_split(X, y, test_size=0.2, random_state=42)"
   ]
  },
  {
   "cell_type": "code",
   "execution_count": 65,
   "id": "3c199af8",
   "metadata": {},
   "outputs": [
    {
     "name": "stdout",
     "output_type": "stream",
     "text": [
      "lightGBM:\n",
      "Score: 60.4800%\n",
      "ROC-AUC: 0.5998455995882656\n",
      "\n",
      "XGBoost:\n",
      "Score: 59.5200%\n",
      "ROC-AUC: 0.5899639732372619\n"
     ]
    }
   ],
   "source": [
    "lightGBM = LGBMClassifier(objective=\"binary\", random_state=0)\n",
    "XGBoost = XGBClassifier(objective='binary:logistic')\n",
    "\n",
    "test_both_models(lightGBM, XGBoost, X_train, y_train, X_test, y_test)"
   ]
  },
  {
   "cell_type": "markdown",
   "id": "56d8f9b2",
   "metadata": {},
   "source": [
    "## Gridsearch"
   ]
  },
  {
   "cell_type": "markdown",
   "id": "d27650d3",
   "metadata": {},
   "source": [
    "### Need to check which models to use and which params"
   ]
  },
  {
   "cell_type": "code",
   "execution_count": null,
   "id": "5607959f",
   "metadata": {},
   "outputs": [],
   "source": [
    "model_params_old = {\n",
    "    'random_forest': {\n",
    "        'model': RandomForestClassifier(),\n",
    "        'params': {\n",
    "            'classifier__n_estimators': [75,100,150,200],\n",
    "            'classifier__criterion': ['gini', 'entropy'],\n",
    "            'classifier__bootstrap' : [\"True\", \"False\"],\n",
    "            'classifier__max_depth' : [7,8,9,10],\n",
    "            'classifier__max_features': ['sqrt', 'log2'],\n",
    "            'classifier__n_jobs' : [5]\n",
    "        }\n",
    "    },\n",
    "    'logistic_regression' : {\n",
    "        'model': LogisticRegression(multi_class='auto', max_iter=300),\n",
    "        'params': {\n",
    "            'classifier__solver': ['lbfgs', 'liblinear'],\n",
    "            'classifier__C': np.geomspace(1e-5, 1e5, num=20)\n",
    "        }\n",
    "    },\n",
    "    'knn': {\n",
    "        'model': KNeighborsClassifier(),\n",
    "        'params': {\n",
    "            'classifier__n_neighbors': [1,10,1],\n",
    "            'classifier__leaf_size': [20,40,1],\n",
    "            'classifier__p': [1,2],\n",
    "            'classifier__weights': ('uniform', 'distance'),\n",
    "            'classifier__metric': ('minkowski', 'chebyshev')\n",
    "        }\n",
    "    },\n",
    "    'lightGBM': {\n",
    "        'model': LGBMClassifier(objective=\"binary\", random_state=0),\n",
    "        'params': {\n",
    "            'classifier__num_leaves': np.arange(2, 10, 1),\n",
    "            'classifier__max_depth': np.arange(1, 6, 1),\n",
    "            'classifier__n_estimators': np.arange(50, 151, 25)\n",
    "        }\n",
    "        \n",
    "    },\n",
    "    'decision_tree': {\n",
    "        'model': DecisionTreeClassifier(),\n",
    "        'params' : {\n",
    "            'classifier__criterion' : ['gini', 'entropy'],\n",
    "            'classifier__max_depth' : range(1, 20),\n",
    "            'classifier__min_samples_split' : range(1, 15),\n",
    "            'classifier__min_samples_leaf' : range(1, 10)\n",
    "        }\n",
    "    }\n",
    "}"
   ]
  },
  {
   "cell_type": "code",
   "execution_count": null,
   "id": "ac6697a5",
   "metadata": {},
   "outputs": [
    {
     "name": "stdout",
     "output_type": "stream",
     "text": [
      "Fitting 50 folds for each of 1845480 candidates, totalling 92274000 fits\n"
     ]
    }
   ],
   "source": [
    "model_params = {\n",
    "    'lightGBM': {\n",
    "        'model': LGBMClassifier(objective=\"binary\", random_state=0),\n",
    "        'params': {\n",
    "            'classifier__num_leaves': np.arange(2, 10, 1),\n",
    "            'classifier__max_depth': np.arange(1, 6, 1),\n",
    "            'classifier__n_estimators': np.arange(50, 151, 25)\n",
    "        }\n",
    "        \n",
    "    },\n",
    "    'XGBoost': {\n",
    "        'model': XGBClassifier(objective='binary:logistic'),\n",
    "        'params': {\n",
    "            'classifier__gamma': [0,0.1,0.2,0.4,0.8,1.6,3.2,6.4],\n",
    "            'classifier__learning_rate': range(0, 0.7, 0.1),\n",
    "            'classifier__max_depth': range(4, 10, 1),\n",
    "            'classifier__n_estimators': range(50, 350, 50),\n",
    "            'classifier__reg_alpha': [0,0.1,0.2,0.4,0.8,1.6,3.2,6.4,12.8,25.6,51.2,102.4,200],\n",
    "            'classifier__reg_lambda': [0.6, 1.0, 1.6,3.2,6.4,12.8,25.6,51.2,102.4,200]\n",
    "        }\n",
    "    }\n",
    "}\n",
    "    \n",
    "kf = RepeatedStratifiedKFold(n_splits=10, n_repeats=5, random_state=0)\n",
    "\n",
    "scores = []\n",
    "for model_name, mp in model_params.items():\n",
    "    if model_name != 'XGBoost':\n",
    "        continue\n",
    "    #pipeline = Pipeline([('smote', SMOTE(random_state=42)), ('classifier', mp['model'])])\n",
    "    pipeline = Pipeline([('classifier', mp['model'])])\n",
    "    grid_search = GridSearchCV(pipeline,\n",
    "                            param_grid=mp['params'],\n",
    "                            return_train_score=False,\n",
    "                            cv=kf,\n",
    "                            n_jobs=-1,\n",
    "                            verbose=1)\n",
    "\n",
    "    grid_search.fit(X_train, y_train)\n",
    "    scores.append({\n",
    "        'model': model_name,\n",
    "        'best_score': grid_search.best_score_,\n",
    "        'best_params': grid_search.best_params_\n",
    "    })\n",
    "\n",
    "df = pd.DataFrame(scores, columns=['model', 'best_score', 'best_params'])\n",
    "\n",
    "\"\"\"\n",
    "#Only works if only lightGBM enabled\n",
    "lightGBM_model = LGBMClassifier(objective=\"binary\", random_state=0, max_depth=df.iloc[0]['best_params']['classifier__max_depth'], n_estimators=df.iloc[0]['best_params']['classifier__n_estimators'], num_leaves=df.iloc[0]['best_params']['classifier__num_leaves'])\n",
    "lightGBM_model.fit(X_train, y_train)\n",
    "\n",
    "test_model('LightGBM with gridsearch:', lightGBM_model, X_test, y_test)\n",
    "\"\"\"\n",
    "\n",
    "XGBoost_model = XGBClassifier(objective='binary:logistic', gamma=df.iloc[0]['best_params']['classifier__gamma'], learning_rate=df.iloc[0]['best_params']['classifier__learning_rate'], max_depth=df.iloc[0]['best_params']['classifier__max_depth'], n_estimators=df.iloc[0]['best_params']['classifier__n_estimators'], reg_alpha=df.iloc[0]['best_params']['classifier__reg_alpha'], n_estimators=df.iloc[0]['best_params']['classifier__reg_lambda'])\n",
    "XGBoost_model.fit(X_train, y_train)\n",
    "\n",
    "test_model('XGBoost with gridsearch:', XGBoost_model, X_test, y_test)"
   ]
  },
  {
   "cell_type": "code",
   "execution_count": null,
   "id": "37aa00d8",
   "metadata": {},
   "outputs": [],
   "source": []
  },
  {
   "cell_type": "code",
   "execution_count": null,
   "id": "16cc5161",
   "metadata": {},
   "outputs": [],
   "source": []
  },
  {
   "cell_type": "code",
   "execution_count": null,
   "id": "be0b7111",
   "metadata": {},
   "outputs": [],
   "source": []
  },
  {
   "cell_type": "code",
   "execution_count": null,
   "id": "6f56f9b5",
   "metadata": {},
   "outputs": [],
   "source": []
  }
 ],
 "metadata": {
  "kernelspec": {
   "display_name": "Python 3 (ipykernel)",
   "language": "python",
   "name": "python3"
  },
  "language_info": {
   "codemirror_mode": {
    "name": "ipython",
    "version": 3
   },
   "file_extension": ".py",
   "mimetype": "text/x-python",
   "name": "python",
   "nbconvert_exporter": "python",
   "pygments_lexer": "ipython3",
   "version": "3.9.12"
  }
 },
 "nbformat": 4,
 "nbformat_minor": 5
}
