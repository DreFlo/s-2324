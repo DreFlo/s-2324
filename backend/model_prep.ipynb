{
 "cells": [
  {
   "cell_type": "code",
   "execution_count": 1,
   "id": "383ad5c9",
   "metadata": {},
   "outputs": [],
   "source": [
    "import json\n",
    "import pandas as pd\n",
    "import numpy as np\n",
    "import matplotlib.pyplot as plt\n",
    "import plotly.graph_objects as go\n",
    "import statistics\n",
    "import random\n",
    "import seaborn as sb\n",
    "\n",
    "from datetime import datetime, timedelta\n",
    "from sklearn.model_selection import train_test_split, GridSearchCV, RepeatedStratifiedKFold\n",
    "from sklearn.metrics import confusion_matrix, classification_report, roc_auc_score, f1_score\n",
    "from sklearn.preprocessing import LabelEncoder, StandardScaler\n",
    "from imblearn.pipeline import Pipeline\n",
    "from sklearn.feature_selection import SelectFromModel\n",
    "\n",
    "from sklearn.linear_model import LogisticRegression\n",
    "from sklearn.svm import SVC\n",
    "from sklearn.tree import DecisionTreeClassifier\n",
    "from sklearn.neural_network import MLPClassifier\n",
    "from sklearn.ensemble import RandomForestClassifier\n",
    "from sklearn.neighbors import KNeighborsClassifier\n",
    "from lightgbm import LGBMClassifier\n",
    "from xgboost import XGBClassifier"
   ]
  },
  {
   "cell_type": "markdown",
   "id": "4638b7f6",
   "metadata": {},
   "source": [
    "# Data Preparation"
   ]
  },
  {
   "cell_type": "code",
   "execution_count": 2,
   "id": "53e1a0e0",
   "metadata": {},
   "outputs": [],
   "source": [
    "def create_subset(size):\n",
    "    with open('../resources/test_data.json', 'r') as file:\n",
    "        data = json.load(file)\n",
    "        \n",
    "    subset_dictionary = {key: data[key] for key in list(data.keys())[:size]}\n",
    "    \n",
    "    with open('../resources/test_data_subset_' + str(size) + '.json', 'w') as file:\n",
    "        json.dump(subset_dictionary, file, indent=2)\n",
    "        \n",
    "    return"
   ]
  },
  {
   "cell_type": "code",
   "execution_count": 3,
   "id": "4781e6cd",
   "metadata": {},
   "outputs": [],
   "source": [
    "create_subset(300)"
   ]
  },
  {
   "cell_type": "code",
   "execution_count": 4,
   "id": "96290395",
   "metadata": {},
   "outputs": [],
   "source": [
    "data_file_path = '../resources/test_data_subset_300.json'\n",
    "dataframe_file_path = '../resources/data_subset_300.csv'"
   ]
  },
  {
   "cell_type": "code",
   "execution_count": 5,
   "id": "77f37c81",
   "metadata": {},
   "outputs": [],
   "source": [
    "def check_data():\n",
    "    df = pd.read_csv(dataframe_file_path)\n",
    "    \n",
    "    print(\"Rows: \", len(df))\n",
    "    for col in df.columns:\n",
    "        print(col, \": \", (df[col].isnull().sum()/len(df)) * 100, \"%\")"
   ]
  },
  {
   "cell_type": "code",
   "execution_count": 23,
   "id": "12d1fcd1",
   "metadata": {},
   "outputs": [
    {
     "ename": "KeyboardInterrupt",
     "evalue": "",
     "output_type": "error",
     "traceback": [
      "\u001b[1;31m---------------------------------------------------------------------------\u001b[0m",
      "\u001b[1;31mKeyboardInterrupt\u001b[0m                         Traceback (most recent call last)",
      "\u001b[1;32mc:\\Users\\andre\\Documents\\FEUP\\S\\proj\\backend\\model\\model_prep.ipynb Cell 7\u001b[0m line \u001b[0;36m2\n\u001b[0;32m      <a href='vscode-notebook-cell:/c%3A/Users/andre/Documents/FEUP/S/proj/backend/model/model_prep.ipynb#W6sZmlsZQ%3D%3D?line=0'>1</a>\u001b[0m \u001b[39mwith\u001b[39;00m \u001b[39mopen\u001b[39m(data_file_path, \u001b[39m'\u001b[39m\u001b[39mr\u001b[39m\u001b[39m'\u001b[39m) \u001b[39mas\u001b[39;00m file:\n\u001b[1;32m----> <a href='vscode-notebook-cell:/c%3A/Users/andre/Documents/FEUP/S/proj/backend/model/model_prep.ipynb#W6sZmlsZQ%3D%3D?line=1'>2</a>\u001b[0m     data \u001b[39m=\u001b[39m json\u001b[39m.\u001b[39mload(file)\n\u001b[0;32m      <a href='vscode-notebook-cell:/c%3A/Users/andre/Documents/FEUP/S/proj/backend/model/model_prep.ipynb#W6sZmlsZQ%3D%3D?line=3'>4</a>\u001b[0m symbols \u001b[39m=\u001b[39m \u001b[39mlist\u001b[39m(data\u001b[39m.\u001b[39mkeys())\n\u001b[0;32m      <a href='vscode-notebook-cell:/c%3A/Users/andre/Documents/FEUP/S/proj/backend/model/model_prep.ipynb#W6sZmlsZQ%3D%3D?line=5'>6</a>\u001b[0m metrics \u001b[39m=\u001b[39m \u001b[39mlist\u001b[39m(data[symbols[\u001b[39m0\u001b[39m]][\u001b[39m'\u001b[39m\u001b[39mkey_metrics_by_form\u001b[39m\u001b[39m'\u001b[39m][\u001b[39m'\u001b[39m\u001b[39m10-Q\u001b[39m\u001b[39m'\u001b[39m]\u001b[39m.\u001b[39mkeys())\n",
      "File \u001b[1;32mc:\\Users\\andre\\AppData\\Local\\Programs\\Python\\Python310\\lib\\json\\__init__.py:293\u001b[0m, in \u001b[0;36mload\u001b[1;34m(fp, cls, object_hook, parse_float, parse_int, parse_constant, object_pairs_hook, **kw)\u001b[0m\n\u001b[0;32m    274\u001b[0m \u001b[39mdef\u001b[39;00m \u001b[39mload\u001b[39m(fp, \u001b[39m*\u001b[39m, \u001b[39mcls\u001b[39m\u001b[39m=\u001b[39m\u001b[39mNone\u001b[39;00m, object_hook\u001b[39m=\u001b[39m\u001b[39mNone\u001b[39;00m, parse_float\u001b[39m=\u001b[39m\u001b[39mNone\u001b[39;00m,\n\u001b[0;32m    275\u001b[0m         parse_int\u001b[39m=\u001b[39m\u001b[39mNone\u001b[39;00m, parse_constant\u001b[39m=\u001b[39m\u001b[39mNone\u001b[39;00m, object_pairs_hook\u001b[39m=\u001b[39m\u001b[39mNone\u001b[39;00m, \u001b[39m*\u001b[39m\u001b[39m*\u001b[39mkw):\n\u001b[0;32m    276\u001b[0m     \u001b[39m\"\"\"Deserialize ``fp`` (a ``.read()``-supporting file-like object containing\u001b[39;00m\n\u001b[0;32m    277\u001b[0m \u001b[39m    a JSON document) to a Python object.\u001b[39;00m\n\u001b[0;32m    278\u001b[0m \n\u001b[1;32m   (...)\u001b[0m\n\u001b[0;32m    291\u001b[0m \u001b[39m    kwarg; otherwise ``JSONDecoder`` is used.\u001b[39;00m\n\u001b[0;32m    292\u001b[0m \u001b[39m    \"\"\"\u001b[39;00m\n\u001b[1;32m--> 293\u001b[0m     \u001b[39mreturn\u001b[39;00m loads(fp\u001b[39m.\u001b[39mread(),\n\u001b[0;32m    294\u001b[0m         \u001b[39mcls\u001b[39m\u001b[39m=\u001b[39m\u001b[39mcls\u001b[39m, object_hook\u001b[39m=\u001b[39mobject_hook,\n\u001b[0;32m    295\u001b[0m         parse_float\u001b[39m=\u001b[39mparse_float, parse_int\u001b[39m=\u001b[39mparse_int,\n\u001b[0;32m    296\u001b[0m         parse_constant\u001b[39m=\u001b[39mparse_constant, object_pairs_hook\u001b[39m=\u001b[39mobject_pairs_hook, \u001b[39m*\u001b[39m\u001b[39m*\u001b[39mkw)\n",
      "File \u001b[1;32mc:\\Users\\andre\\AppData\\Local\\Programs\\Python\\Python310\\lib\\json\\__init__.py:346\u001b[0m, in \u001b[0;36mloads\u001b[1;34m(s, cls, object_hook, parse_float, parse_int, parse_constant, object_pairs_hook, **kw)\u001b[0m\n\u001b[0;32m    341\u001b[0m     s \u001b[39m=\u001b[39m s\u001b[39m.\u001b[39mdecode(detect_encoding(s), \u001b[39m'\u001b[39m\u001b[39msurrogatepass\u001b[39m\u001b[39m'\u001b[39m)\n\u001b[0;32m    343\u001b[0m \u001b[39mif\u001b[39;00m (\u001b[39mcls\u001b[39m \u001b[39mis\u001b[39;00m \u001b[39mNone\u001b[39;00m \u001b[39mand\u001b[39;00m object_hook \u001b[39mis\u001b[39;00m \u001b[39mNone\u001b[39;00m \u001b[39mand\u001b[39;00m\n\u001b[0;32m    344\u001b[0m         parse_int \u001b[39mis\u001b[39;00m \u001b[39mNone\u001b[39;00m \u001b[39mand\u001b[39;00m parse_float \u001b[39mis\u001b[39;00m \u001b[39mNone\u001b[39;00m \u001b[39mand\u001b[39;00m\n\u001b[0;32m    345\u001b[0m         parse_constant \u001b[39mis\u001b[39;00m \u001b[39mNone\u001b[39;00m \u001b[39mand\u001b[39;00m object_pairs_hook \u001b[39mis\u001b[39;00m \u001b[39mNone\u001b[39;00m \u001b[39mand\u001b[39;00m \u001b[39mnot\u001b[39;00m kw):\n\u001b[1;32m--> 346\u001b[0m     \u001b[39mreturn\u001b[39;00m _default_decoder\u001b[39m.\u001b[39;49mdecode(s)\n\u001b[0;32m    347\u001b[0m \u001b[39mif\u001b[39;00m \u001b[39mcls\u001b[39m \u001b[39mis\u001b[39;00m \u001b[39mNone\u001b[39;00m:\n\u001b[0;32m    348\u001b[0m     \u001b[39mcls\u001b[39m \u001b[39m=\u001b[39m JSONDecoder\n",
      "File \u001b[1;32mc:\\Users\\andre\\AppData\\Local\\Programs\\Python\\Python310\\lib\\json\\decoder.py:337\u001b[0m, in \u001b[0;36mJSONDecoder.decode\u001b[1;34m(self, s, _w)\u001b[0m\n\u001b[0;32m    332\u001b[0m \u001b[39mdef\u001b[39;00m \u001b[39mdecode\u001b[39m(\u001b[39mself\u001b[39m, s, _w\u001b[39m=\u001b[39mWHITESPACE\u001b[39m.\u001b[39mmatch):\n\u001b[0;32m    333\u001b[0m     \u001b[39m\"\"\"Return the Python representation of ``s`` (a ``str`` instance\u001b[39;00m\n\u001b[0;32m    334\u001b[0m \u001b[39m    containing a JSON document).\u001b[39;00m\n\u001b[0;32m    335\u001b[0m \n\u001b[0;32m    336\u001b[0m \u001b[39m    \"\"\"\u001b[39;00m\n\u001b[1;32m--> 337\u001b[0m     obj, end \u001b[39m=\u001b[39m \u001b[39mself\u001b[39;49m\u001b[39m.\u001b[39;49mraw_decode(s, idx\u001b[39m=\u001b[39;49m_w(s, \u001b[39m0\u001b[39;49m)\u001b[39m.\u001b[39;49mend())\n\u001b[0;32m    338\u001b[0m     end \u001b[39m=\u001b[39m _w(s, end)\u001b[39m.\u001b[39mend()\n\u001b[0;32m    339\u001b[0m     \u001b[39mif\u001b[39;00m end \u001b[39m!=\u001b[39m \u001b[39mlen\u001b[39m(s):\n",
      "\u001b[1;31mKeyboardInterrupt\u001b[0m: "
     ]
    }
   ],
   "source": [
    "with open(data_file_path, 'r') as file:\n",
    "    data = json.load(file)\n",
    "\n",
    "symbols = list(data.keys())\n",
    "\n",
    "metrics = list(data[symbols[0]]['key_metrics_by_form']['10-Q'].keys())\n",
    "\n",
    "df = pd.DataFrame(columns=['symbol'])\n",
    "\n",
    "df['stock_change_before'] = None\n",
    "df['buy'] = None\n",
    "\n",
    "for metric in metrics:\n",
    "    df[metric + '_last'] = None\n",
    "    df[metric + '_sec_last'] = None\n",
    "    df[metric + '_third_last'] = None\n",
    "\n",
    "for symbol in symbols:\n",
    "    dates = list(data[symbol]['facts_by_form']['10-Q']['fileds']) + list(data[symbol]['facts_by_form']['10-K']['fileds'])\n",
    "    dates = list(set(dates))\n",
    "    dates.sort()\n",
    "\n",
    "    if len(dates) < 6:\n",
    "        continue\n",
    "\n",
    "    encoded_symbol = LabelEncoder().fit_transform([symbol])[0]\n",
    "\n",
    "    start_date = datetime.strptime(dates[3], '%Y-%m-%d')\n",
    "    end_date = datetime.strptime(dates[-2], '%Y-%m-%d')\n",
    "    random_dates = []\n",
    "\n",
    "    for _ in range(len(dates) // 2):\n",
    "        random_date = start_date + (end_date - start_date) * random.random()\n",
    "        random_dates.append(random_date.strftime('%Y-%m-%d'))\n",
    "\n",
    "    for date in random_dates:\n",
    "        date_dt = datetime.strptime(date, '%Y-%m-%d')\n",
    "        row_values = [encoded_symbol]\n",
    "\n",
    "        stock_dates = list(data[symbol]['stock_price_history'].keys())\n",
    "        stock_change_over = []\n",
    "        stock_change_before = []\n",
    "        for i, stock_date in enumerate(stock_dates):\n",
    "            stock_date_dt = datetime.strptime(stock_date, '%Y-%m-%d')\n",
    "\n",
    "            if (stock_date_dt - date_dt).days < 30 and (stock_date_dt - date_dt).days > 0:\n",
    "                stock_change_over.append(data[symbol]['stock_price_history'][stock_date]['close'] - data[symbol]['stock_price_history'][stock_dates[i-1]]['close'])\n",
    "            elif (stock_date_dt - date_dt).days > -30 and (stock_date_dt - date_dt).days < 0:\n",
    "                stock_change_before.append(data[symbol]['stock_price_history'][stock_date]['close'] - data[symbol]['stock_price_history'][stock_dates[i-1]]['close'])\n",
    "\n",
    "        if len(stock_change_over) == 0 or len(stock_change_before) == 0:\n",
    "            continue\n",
    "        else:\n",
    "            row_values.append(statistics.median(stock_change_before))\n",
    "\n",
    "            median_over = statistics.median(stock_change_over)\n",
    "            if median_over > 0:\n",
    "                row_values.append(1)\n",
    "            else:\n",
    "                row_values.append(0)\n",
    "\n",
    "        dates_before = [_date for _date in dates if _date <= date]\n",
    "\n",
    "        for metric in metrics: \n",
    "            found_no = 0\n",
    "\n",
    "            for _date in dates_before[::-1]:\n",
    "                if found_no == 3:\n",
    "                    break\n",
    "\n",
    "                if _date in data[symbol]['key_metrics_by_form']['10-Q'][metric]:\n",
    "                    if type(data[symbol]['key_metrics_by_form']['10-Q'][metric][_date]) == dict:\n",
    "                        row_values.append(data[symbol]['key_metrics_by_form']['10-Q'][metric][_date]['val'])\n",
    "                        found_no += 1\n",
    "                        continue\n",
    "\n",
    "                if _date in data[symbol]['key_metrics_by_form']['10-K'][metric]:\n",
    "                    if type(data[symbol]['key_metrics_by_form']['10-K'][metric][_date]) == dict:\n",
    "                        row_values.append(data[symbol]['key_metrics_by_form']['10-K'][metric][_date]['val'])\n",
    "                        found_no += 1\n",
    "                        continue\n",
    "\n",
    "            while found_no < 3:\n",
    "                row_values.append(np.nan)\n",
    "                found_no += 1\n",
    "\n",
    "        df.loc[len(df)] = row_values\n",
    "\n",
    "df.dropna(how='all', inplace=True)\n",
    "\n",
    "df.to_csv(dataframe_file_path, index=False)"
   ]
  },
  {
   "cell_type": "code",
   "execution_count": 7,
   "id": "5af68edd",
   "metadata": {},
   "outputs": [
    {
     "name": "stdout",
     "output_type": "stream",
     "text": [
      "Rows: 3010\n",
      "Columns: 144\n",
      "Rows: 0\n",
      "Columns: 144\n"
     ]
    }
   ],
   "source": [
    "test_df = pd.read_csv(dataframe_file_path)\n",
    "\n",
    "print(f'Rows: {len(test_df)}')\n",
    "print(f'Columns: {len(test_df.columns)}')\n",
    "\n",
    "for column in test_df:\n",
    "    if test_df[column].isnull().all():\n",
    "        print(column)\n",
    "        test_df.drop(columns=[column])\n",
    "\n",
    "test_df.dropna(inplace=True)\n",
    "\n",
    "print(f'Rows: {len(test_df)}')\n",
    "print(f'Columns: {len(test_df.columns)}')"
   ]
  },
  {
   "cell_type": "markdown",
   "id": "064dc22d",
   "metadata": {},
   "source": [
    "# Testing the Model"
   ]
  },
  {
   "cell_type": "code",
   "execution_count": 8,
   "id": "078c62b4",
   "metadata": {},
   "outputs": [],
   "source": [
    "def test_model(name, model, X_test, y_test):\n",
    "    print(name + \":\")\n",
    "    print(\"Score: {:.4f}%\".format(model.score(X_test, y_test) * 100))\n",
    "    \n",
    "    y_pred = model.predict(X_test)\n",
    "    print(\"ROC-AUC:\", roc_auc_score(y_test, y_pred))\n",
    "    #print(confusion_matrix(y_test, y_pred))\n",
    "    #print(classification_report(y_test, y_pred))\n",
    "    \n",
    "    return"
   ]
  },
  {
   "cell_type": "code",
   "execution_count": 9,
   "id": "55776409",
   "metadata": {},
   "outputs": [],
   "source": [
    "def test_both_models(lightGBM, XGBoost, X_train, y_train, X_test, y_test):\n",
    "    lightGBM.fit(X_train, y_train)\n",
    "    test_model('lightGBM', lightGBM, X_test, y_test)\n",
    "    \n",
    "    XGBoost.fit(X_train, y_train)\n",
    "    test_model('\\nXGBoost', XGBoost, X_test, y_test)\n",
    "    \n",
    "    return"
   ]
  },
  {
   "cell_type": "code",
   "execution_count": 10,
   "id": "ab612c31",
   "metadata": {},
   "outputs": [],
   "source": [
    "df = pd.read_csv(dataframe_file_path)\n",
    "    \n",
    "X = df.drop('buy', axis=1)\n",
    "y = df['buy']\n",
    "\n",
    "X_train, X_test, y_train, y_test = train_test_split(X, y, test_size=0.2, random_state=42)"
   ]
  },
  {
   "cell_type": "markdown",
   "id": "b10067e6",
   "metadata": {},
   "source": [
    "## Baseline"
   ]
  },
  {
   "cell_type": "markdown",
   "id": "bd3cd80d",
   "metadata": {},
   "source": [
    "## We can use 'model.predict_proba' to get the probability of each"
   ]
  },
  {
   "cell_type": "code",
   "execution_count": 11,
   "id": "b9666e78",
   "metadata": {},
   "outputs": [
    {
     "name": "stdout",
     "output_type": "stream",
     "text": [
      "lightGBM:\n",
      "Score: 63.2890%\n",
      "ROC-AUC: 0.613731443994602\n",
      "\n",
      "XGBoost:\n",
      "Score: 63.9535%\n",
      "ROC-AUC: 0.621884840305893\n"
     ]
    }
   ],
   "source": [
    "lightGBM = LGBMClassifier(objective=\"binary\", random_state=0)\n",
    "XGBoost = XGBClassifier(objective='binary:logistic')\n",
    "\n",
    "test_both_models(lightGBM, XGBoost, X_train, y_train, X_test, y_test)"
   ]
  },
  {
   "cell_type": "markdown",
   "id": "f47c0902",
   "metadata": {},
   "source": [
    "## Scaling"
   ]
  },
  {
   "cell_type": "code",
   "execution_count": 12,
   "id": "716ab686",
   "metadata": {},
   "outputs": [
    {
     "name": "stdout",
     "output_type": "stream",
     "text": [
      "lightGBM:\n",
      "Score: 62.9568%\n",
      "ROC-AUC: 0.6126518218623482\n",
      "\n",
      "XGBoost:\n",
      "Score: 64.2857%\n",
      "ROC-AUC: 0.6252699055330634\n"
     ]
    }
   ],
   "source": [
    "df = pd.read_csv(dataframe_file_path)\n",
    "    \n",
    "X = df.drop('buy', axis=1)\n",
    "y = df['buy']\n",
    "\n",
    "scaler = StandardScaler()\n",
    "X = pd.DataFrame(scaler.fit_transform(X), columns=X.columns)\n",
    "\n",
    "X_train, X_test, y_train, y_test = train_test_split(X, y, test_size=0.2, random_state=42)\n",
    "\n",
    "lightGBM = LGBMClassifier(objective=\"binary\", random_state=0)\n",
    "XGBoost = XGBClassifier(objective='binary:logistic')\n",
    "\n",
    "test_both_models(lightGBM, XGBoost, X_train, y_train, X_test, y_test)"
   ]
  },
  {
   "cell_type": "markdown",
   "id": "23aacc81",
   "metadata": {},
   "source": [
    "## Feature Selection"
   ]
  },
  {
   "cell_type": "code",
   "execution_count": 13,
   "id": "617741dc",
   "metadata": {},
   "outputs": [],
   "source": [
    "# m = LGBMClassifier(objective=\"binary\", random_state=0)\n",
    "# m.fit(X_train, y_train)\n",
    "\n",
    "# y_pred = m.predict(X_test)\n",
    "# rocauc = roc_auc_score(y_test, y_pred)\n",
    "# f1 = f1_score(y_test, y_pred)\n",
    "# print(\"ROC-AUC: %f; F1: %f\" % (rocauc, f1))\n",
    "\n",
    "# thresholds_df = pd.DataFrame()\n",
    "\n",
    "# thresholds = np.sort(m.feature_importances_)\n",
    "# for tr in thresholds:\n",
    "#     sel = SelectFromModel(m, threshold=tr, prefit=True)\n",
    "#     sel_X_train = sel.transform(X_train.values)\n",
    "#     #\n",
    "#     clf = LGBMClassifier(objective=\"binary\", random_state=0)\n",
    "#     clf.fit(sel_X_train, y_train)\n",
    "#     #\n",
    "#     sel_X_test = sel.transform(X_test.values)\n",
    "#     y_pred = clf.predict(sel_X_test)\n",
    "#     rocauc = roc_auc_score(y_test, y_pred)\n",
    "#     f1 = f1_score(y_test, y_pred)\n",
    "#     right_df = pd.DataFrame([[tr, rocauc]], columns=['threshold', 'roc-auc'])\n",
    "#     print(\"Threshold=%s; ROC-AUC: %f; F1: %f\" % (tr, rocauc, f1))\n",
    "#     thresholds_df = pd.concat([thresholds_df, right_df], axis=0, join=\"outer\", ignore_index=True)\n",
    "\n",
    "# sb.scatterplot(x=\"threshold\", y=\"roc-auc\", data=thresholds_df)"
   ]
  },
  {
   "cell_type": "code",
   "execution_count": 14,
   "metadata": {},
   "outputs": [
    {
     "name": "stdout",
     "output_type": "stream",
     "text": [
      "ROC-AUC: 0.625270; F1: 0.545455\n"
     ]
    },
    {
     "data": {
      "text/plain": [
       "<Axes: xlabel='threshold', ylabel='roc-auc'>"
      ]
     },
     "execution_count": 14,
     "metadata": {},
     "output_type": "execute_result"
    },
    {
     "data": {
      "image/png": "[encoded data removed]",
      "text/plain": [
       "<Figure size 640x480 with 1 Axes>"
      ]
     },
     "metadata": {},
     "output_type": "display_data"
    }
   ],
   "source": [
    "m = XGBClassifier(objective='binary:logistic')\n",
    "m.fit(X_train, y_train)\n",
    "\n",
    "y_pred = m.predict(X_test)\n",
    "rocauc = roc_auc_score(y_test, y_pred)\n",
    "f1 = f1_score(y_test, y_pred)\n",
    "print(\"ROC-AUC: %f; F1: %f\" % (rocauc, f1))\n",
    "\n",
    "thresholds_df = pd.DataFrame()\n",
    "\n",
    "thresholds = np.sort(m.feature_importances_)\n",
    "for tr in thresholds:\n",
    "    sel = SelectFromModel(m, threshold=tr, prefit=True)\n",
    "    sel_X_train = sel.transform(X_train.values)\n",
    "    #\n",
    "    clf = XGBClassifier(objective='binary:logistic')\n",
    "    clf.fit(sel_X_train, y_train)\n",
    "    #\n",
    "    sel_X_test = sel.transform(X_test.values)\n",
    "    y_pred = clf.predict(sel_X_test)\n",
    "    rocauc = roc_auc_score(y_test, y_pred)\n",
    "    f1 = f1_score(y_test, y_pred)\n",
    "    right_df = pd.DataFrame([[tr, rocauc]], columns=['threshold', 'roc-auc'])\n",
    "    #print(\"Threshold=%s; ROC-AUC: %f; F1: %f\" % (tr, rocauc, f1))\n",
    "    thresholds_df = pd.concat([thresholds_df, right_df], axis=0, join=\"outer\", ignore_index=True)\n",
    "\n",
    "sb.scatterplot(x=\"threshold\", y=\"roc-auc\", data=thresholds_df)"
   ]
  },
  {
   "cell_type": "code",
   "execution_count": 15,
   "id": "37d0d6d4",
   "metadata": {},
   "outputs": [
    {
     "name": "stdout",
     "output_type": "stream",
     "text": [
      "Best: \n",
      "Threshold = 0.0052322810515761375 \n",
      "ROC-AUC = 0.6339631129104814\n"
     ]
    }
   ],
   "source": [
    "best = thresholds_df.sort_values(\"roc-auc\", ascending=False).iloc[0]\n",
    "print(\"Best: \\nThreshold = {} \\nROC-AUC = {}\".format(best[\"threshold\"], best[\"roc-auc\"]))"
   ]
  },
  {
   "cell_type": "code",
   "execution_count": 16,
   "id": "de66809f",
   "metadata": {},
   "outputs": [
    {
     "name": "stdout",
     "output_type": "stream",
     "text": [
      "Index(['CurrentRatio_last', 'DebtToEquity_sec_last', 'DebtToEquity_third_last',\n",
      "       'DebtToAssets_last', 'DebtToAssets_sec_last', 'DebtToAssets_third_last',\n",
      "       'Revenue_last', 'Revenue_sec_last', 'EBIT_third_last',\n",
      "       'FreeCashFlow_last', 'FreeCashFlow_third_last',\n",
      "       'NetDebtToEBITDA_sec_last', 'NetDebtToEBITDA_third_last',\n",
      "       'IncomeQuality_last', 'IncomeQuality_sec_last', 'PayoutRatio_last',\n",
      "       'PayoutRatio_sec_last', 'SalesGeneralAndAdministrativeToRevenue_last',\n",
      "       'ReturnOnTangibleAssets_last', 'ReturnOnTangibleAssets_sec_last',\n",
      "       'ReturnOnTangibleAssets_third_last', 'WorkingCapital_last',\n",
      "       'WorkingCapital_sec_last', 'WorkingCapital_third_last',\n",
      "       'TangibleAssetValue_last', 'TangibleAssetValue_sec_last',\n",
      "       'TangibleAssetValue_third_last', 'RevenuePerShare_sec_last',\n",
      "       'RevenuePerShare_third_last', 'InterestDebtPerShare_sec_last',\n",
      "       'ReturnOnEquity_sec_last', 'CapexPerShare_sec_last', 'QuickRatio_last',\n",
      "       'QuickRatio_sec_last', 'CashRatio_sec_last', 'CashRatio_third_last',\n",
      "       'ReturnOnAssets_sec_last', 'ReturnOnAssets_third_last',\n",
      "       'ReturnOnCapitalEmployed_last', 'ReturnOnCapitalEmployed_sec_last',\n",
      "       'ReturnOnCapitalEmployed_third_last', 'CompanyEquityMultiplier_last',\n",
      "       'CompanyEquityMultiplier_sec_last',\n",
      "       'CompanyEquityMultiplier_third_last', 'NetIncomePerEBT_last',\n",
      "       'NetIncomePerEBT_sec_last', 'TotalDebtToCapitalization_sec_last',\n",
      "       'TotalDebtToCapitalization_third_last', 'FixedAssetTurnover_last',\n",
      "       'FixedAssetTurnover_sec_last', 'FixedAssetTurnover_third_last',\n",
      "       'OperatingCashFlowSalesRatio_last',\n",
      "       'OperatingCashFlowSalesRatio_third_last', 'FreeCashFlowSalesRatio_last',\n",
      "       'FreeCashFlowSalesRatio_third_last', 'CashFlowCoverageRatio_third_last',\n",
      "       'ShortTermCoverageRatio_third_last',\n",
      "       'CapitalExpenditureCoverageRatio_last',\n",
      "       'CapitalExpenditureCoverageRatio_third_last',\n",
      "       'OperatingProfitMargin_last', 'OperatingProfitMargin_third_last',\n",
      "       'PretaxProfitMargin_last', 'PretaxProfitMargin_sec_last',\n",
      "       'PretaxProfitMargin_third_last', 'NetProfitMargin_third_last',\n",
      "       'EBTPerEBIT_sec_last', 'EBTPerEBIT_third_last', 'DebtRatio_last',\n",
      "       'DebtRatio_sec_last', 'CashFlowToDebtRatio_last',\n",
      "       'CashFlowToDebtRatio_sec_last', 'CashFlowToDebtRatio_third_last',\n",
      "       'AssetTurnover_last', 'AssetTurnover_third_last'],\n",
      "      dtype='object') 74\n"
     ]
    }
   ],
   "source": [
    "sel = SelectFromModel(XGBClassifier(objective='binary:logistic'))\n",
    "sel.fit(X_train, y_train)\n",
    "selected_attr = X_train.columns[(sel.get_support())]\n",
    "print(selected_attr, len(selected_attr))"
   ]
  },
  {
   "cell_type": "code",
   "execution_count": 17,
   "id": "fae38c1c",
   "metadata": {},
   "outputs": [],
   "source": [
    "attr_to_drop = set(df.columns) - set(selected_attr)\n",
    "attr_to_drop.remove('buy')\n",
    "\n",
    "df.drop(attr_to_drop, axis=1, inplace=True)\n",
    "\n",
    "X = df.drop('buy', axis=1)\n",
    "y = df['buy']\n",
    "\n",
    "X_train, X_test, y_train, y_test = train_test_split(X, y, test_size=0.2, random_state=42)"
   ]
  },
  {
   "cell_type": "code",
   "execution_count": 18,
   "id": "3c199af8",
   "metadata": {},
   "outputs": [
    {
     "name": "stdout",
     "output_type": "stream",
     "text": [
      "lightGBM:\n",
      "Score: 63.6213%\n",
      "ROC-AUC: 0.6166554206027891\n",
      "\n",
      "XGBoost:\n",
      "Score: 63.1229%\n",
      "ROC-AUC: 0.6145748987854251\n"
     ]
    }
   ],
   "source": [
    "lightGBM = LGBMClassifier(objective=\"binary\", random_state=0)\n",
    "XGBoost = XGBClassifier(objective='binary:logistic')\n",
    "\n",
    "test_both_models(lightGBM, XGBoost, X_train, y_train, X_test, y_test)"
   ]
  },
  {
   "cell_type": "markdown",
   "id": "56d8f9b2",
   "metadata": {},
   "source": [
    "## Gridsearch"
   ]
  },
  {
   "cell_type": "markdown",
   "id": "d27650d3",
   "metadata": {},
   "source": [
    "### Need to check which models to use and which params"
   ]
  },
  {
   "cell_type": "code",
   "execution_count": 19,
   "id": "ac6697a5",
   "metadata": {},
   "outputs": [
    {
     "data": {
      "text/plain": [
       "\"\\nXGBoost_model = XGBClassifier(objective='binary:logistic', gamma=df.iloc[0]['best_params']['classifier__gamma'], learning_rate=df.iloc[0]['best_params']['classifier__learning_rate'], max_depth=df.iloc[0]['best_params']['classifier__max_depth'], n_estimators=df.iloc[0]['best_params']['classifier__n_estimators'], reg_alpha=df.iloc[0]['best_params']['classifier__reg_alpha'], n_estimators=df.iloc[0]['best_params']['classifier__reg_lambda'])\\nXGBoost_model.fit(X_train, y_train)\\n\\ntest_model('XGBoost with gridsearch:', XGBoost_model, X_test, y_test)\\n\""
      ]
     },
     "execution_count": 19,
     "metadata": {},
     "output_type": "execute_result"
    }
   ],
   "source": [
    "model_params = {\n",
    "    'lightGBM': {\n",
    "        'model': LGBMClassifier(objective=\"binary\", random_state=0),\n",
    "        'params': {\n",
    "            'classifier__num_leaves': [n for n in np.arange(2, 10, 1)],\n",
    "            'classifier__max_depth': [n for n in np.arange(1, 6, 1)],\n",
    "            'classifier__n_estimators': [n for n in np.arange(50, 151, 25)]\n",
    "        }\n",
    "        \n",
    "    },\n",
    "    'XGBoost': {\n",
    "        'model': XGBClassifier(objective='binary:logistic'),\n",
    "        'params': {\n",
    "            'classifier__gamma': [0,0.1,0.2,0.4,0.8,1.6,3.2,6.4],\n",
    "            'classifier__learning_rate': [n for n in np.arange(0, 0.7, 0.1)],\n",
    "            'classifier__max_depth': [n for n in range(4, 10, 1)],\n",
    "            'classifier__n_estimators': [n for n in range(50, 350, 50)],\n",
    "            'classifier__reg_alpha': [0,0.1,0.2,0.4,0.8,1.6,3.2,6.4,12.8,25.6,51.2,102.4,200],\n",
    "            'classifier__reg_lambda': [0.6, 1.0, 1.6,3.2,6.4,12.8,25.6,51.2,102.4,200]\n",
    "        }\n",
    "    }\n",
    "}\n",
    "\"\"\"\n",
    "    \n",
    "kf = RepeatedStratifiedKFold(n_splits=10, n_repeats=5, random_state=0)\n",
    "\n",
    "scores = []\n",
    "for model_name, mp in model_params.items():\n",
    "    if model_name != 'XGBoost':\n",
    "        continue\n",
    "    #pipeline = Pipeline([('smote', SMOTE(random_state=42)), ('classifier', mp['model'])])\n",
    "    pipeline = Pipeline([('classifier', mp['model'])])\n",
    "    grid_search = GridSearchCV(pipeline,\n",
    "                            param_grid=mp['params'],\n",
    "                            return_train_score=False,\n",
    "                            cv=kf,\n",
    "                            n_jobs=-1,\n",
    "                            verbose=1)\n",
    "\n",
    "    grid_search.fit(X_train, y_train)\n",
    "    scores.append({\n",
    "        'model': model_name,\n",
    "        'best_score': grid_search.best_score_,\n",
    "        'best_params': grid_search.best_params_\n",
    "    })\n",
    "\n",
    "df = pd.DataFrame(scores, columns=['model', 'best_score', 'best_params'])\n",
    "\n",
    "\"\"\"\n",
    "\"\"\"\n",
    "#Only works if only lightGBM enabled\n",
    "lightGBM_model = LGBMClassifier(objective=\"binary\", random_state=0, max_depth=df.iloc[0]['best_params']['classifier__max_depth'], n_estimators=df.iloc[0]['best_params']['classifier__n_estimators'], num_leaves=df.iloc[0]['best_params']['classifier__num_leaves'])\n",
    "lightGBM_model.fit(X_train, y_train)\n",
    "\n",
    "test_model('LightGBM with gridsearch:', lightGBM_model, X_test, y_test)\n",
    "\"\"\"\n",
    "\"\"\"\n",
    "XGBoost_model = XGBClassifier(objective='binary:logistic', gamma=df.iloc[0]['best_params']['classifier__gamma'], learning_rate=df.iloc[0]['best_params']['classifier__learning_rate'], max_depth=df.iloc[0]['best_params']['classifier__max_depth'], n_estimators=df.iloc[0]['best_params']['classifier__n_estimators'], reg_alpha=df.iloc[0]['best_params']['classifier__reg_alpha'], n_estimators=df.iloc[0]['best_params']['classifier__reg_lambda'])\n",
    "XGBoost_model.fit(X_train, y_train)\n",
    "\n",
    "test_model('XGBoost with gridsearch:', XGBoost_model, X_test, y_test)\n",
    "\"\"\""
   ]
  },
  {
   "cell_type": "code",
   "execution_count": 20,
   "id": "37aa00d8",
   "metadata": {},
   "outputs": [],
   "source": [
    "from skopt import BayesSearchCV\n",
    "\n",
    "scores = []\n",
    "for model_name, mp in model_params.items():\n",
    "    if model_name != 'XGBoost':\n",
    "        continue\n",
    "    #pipeline = Pipeline([('smote', SMOTE(random_state=42)), ('classifier', mp['model'])])\n",
    "    pipeline = Pipeline([('classifier', mp['model'])])\n",
    "    bayes = BayesSearchCV(pipeline,\n",
    "                      search_spaces=mp['params'], # same space as GridSearch\n",
    "                      n_iter=20, cv=RepeatedStratifiedKFold(n_splits=10, n_repeats=5, random_state=0))\n",
    "    bayes.fit(X_train, y_train)\n",
    "    scores.append({\n",
    "        'model': model_name,\n",
    "        'best_score': bayes.best_score_,\n",
    "        'best_params': bayes.best_params_\n",
    "    })\n",
    "\n",
    "df = pd.DataFrame(scores, columns=['model', 'best_score', 'best_params'])"
   ]
  },
  {
   "cell_type": "code",
   "execution_count": 22,
   "id": "16cc5161",
   "metadata": {},
   "outputs": [
    {
     "name": "stdout",
     "output_type": "stream",
     "text": [
      "XGBoost with gridsearch::\n",
      "Score: 59.3023%\n",
      "ROC-AUC: 0.5403733693207378\n"
     ]
    }
   ],
   "source": [
    "XGBoost_model = XGBClassifier(objective='binary:logistic', gamma=df.iloc[0]['best_params']['classifier__gamma'], learning_rate=df.iloc[0]['best_params']['classifier__learning_rate'], max_depth=df.iloc[0]['best_params']['classifier__max_depth'], n_estimators=df.iloc[0]['best_params']['classifier__n_estimators'], reg_alpha=df.iloc[0]['best_params']['classifier__reg_alpha'], reg_lambda=df.iloc[0]['best_params']['classifier__reg_lambda'])\n",
    "XGBoost_model.fit(X_train, y_train)\n",
    "\n",
    "test_model('XGBoost with gridsearch:', XGBoost_model, X_test, y_test)"
   ]
  },
  {
   "cell_type": "code",
   "execution_count": 36,
   "id": "be0b7111",
   "metadata": {},
   "outputs": [
    {
     "name": "stdout",
     "output_type": "stream",
     "text": [
      "LightGBM with gridsearch::\n",
      "Score: 62.7907%\n",
      "ROC-AUC: 0.607116977514186\n"
     ]
    }
   ],
   "source": [
    "lightGBM_model = LGBMClassifier(objective=\"binary\", random_state=0, max_depth=df.iloc[0]['best_params']['classifier__max_depth'], n_estimators=df.iloc[0]['best_params']['classifier__n_estimators'], num_leaves=df.iloc[0]['best_params']['classifier__num_leaves'])\n",
    "lightGBM_model.fit(X_train, y_train)\n",
    "\n",
    "test_model('LightGBM with gridsearch:', lightGBM_model, X_test, y_test)"
   ]
  },
  {
   "cell_type": "code",
   "execution_count": null,
   "id": "6f56f9b5",
   "metadata": {},
   "outputs": [],
   "source": []
  }
 ],
 "metadata": {
  "kernelspec": {
   "display_name": "Python 3 (ipykernel)",
   "language": "python",
   "name": "python3"
  },
  "language_info": {
   "codemirror_mode": {
    "name": "ipython",
    "version": 3
   },
   "file_extension": ".py",
   "mimetype": "text/x-python",
   "name": "python",
   "nbconvert_exporter": "python",
   "pygments_lexer": "ipython3",
   "version": "3.10.4"
  }
 },
 "nbformat": 4,
 "nbformat_minor": 5
}
